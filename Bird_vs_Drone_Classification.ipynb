{
  "cells": [
    {
      "cell_type": "markdown",
      "metadata": {
        "id": "view-in-github",
        "colab_type": "text"
      },
      "source": [
        "<a href=\"https://colab.research.google.com/github/LiorProjects2024/Bird-vs.-Drone-Classification/blob/main/Bird_vs_Drone_Classification.ipynb\" target=\"_parent\"><img src=\"https://colab.research.google.com/assets/colab-badge.svg\" alt=\"Open In Colab\"/></a>"
      ]
    },
    {
      "cell_type": "code",
      "execution_count": null,
      "metadata": {
        "colab": {
          "base_uri": "https://localhost:8080/"
        },
        "id": "_32OHLhc3obh",
        "outputId": "4abeccdd-761b-4a08-eb64-a4a1de8ed7e4"
      },
      "outputs": [
        {
          "output_type": "stream",
          "name": "stdout",
          "text": [
            "Requirement already satisfied: tensorflow in /usr/local/lib/python3.11/dist-packages (2.19.0)\n",
            "Requirement already satisfied: absl-py>=1.0.0 in /usr/local/lib/python3.11/dist-packages (from tensorflow) (1.4.0)\n",
            "Requirement already satisfied: astunparse>=1.6.0 in /usr/local/lib/python3.11/dist-packages (from tensorflow) (1.6.3)\n",
            "Requirement already satisfied: flatbuffers>=24.3.25 in /usr/local/lib/python3.11/dist-packages (from tensorflow) (25.2.10)\n",
            "Requirement already satisfied: gast!=0.5.0,!=0.5.1,!=0.5.2,>=0.2.1 in /usr/local/lib/python3.11/dist-packages (from tensorflow) (0.6.0)\n",
            "Requirement already satisfied: google-pasta>=0.1.1 in /usr/local/lib/python3.11/dist-packages (from tensorflow) (0.2.0)\n",
            "Requirement already satisfied: libclang>=13.0.0 in /usr/local/lib/python3.11/dist-packages (from tensorflow) (18.1.1)\n",
            "Requirement already satisfied: opt-einsum>=2.3.2 in /usr/local/lib/python3.11/dist-packages (from tensorflow) (3.4.0)\n",
            "Requirement already satisfied: packaging in /usr/local/lib/python3.11/dist-packages (from tensorflow) (24.2)\n",
            "Requirement already satisfied: protobuf!=4.21.0,!=4.21.1,!=4.21.2,!=4.21.3,!=4.21.4,!=4.21.5,<6.0.0dev,>=3.20.3 in /usr/local/lib/python3.11/dist-packages (from tensorflow) (5.29.4)\n",
            "Requirement already satisfied: requests<3,>=2.21.0 in /usr/local/lib/python3.11/dist-packages (from tensorflow) (2.32.3)\n",
            "Requirement already satisfied: setuptools in /usr/local/lib/python3.11/dist-packages (from tensorflow) (75.2.0)\n",
            "Requirement already satisfied: six>=1.12.0 in /usr/local/lib/python3.11/dist-packages (from tensorflow) (1.17.0)\n",
            "Requirement already satisfied: termcolor>=1.1.0 in /usr/local/lib/python3.11/dist-packages (from tensorflow) (3.0.1)\n",
            "Requirement already satisfied: typing-extensions>=3.6.6 in /usr/local/lib/python3.11/dist-packages (from tensorflow) (4.13.0)\n",
            "Requirement already satisfied: wrapt>=1.11.0 in /usr/local/lib/python3.11/dist-packages (from tensorflow) (1.17.2)\n",
            "Requirement already satisfied: grpcio<2.0,>=1.24.3 in /usr/local/lib/python3.11/dist-packages (from tensorflow) (1.71.0)\n",
            "Requirement already satisfied: tensorboard~=2.19.0 in /usr/local/lib/python3.11/dist-packages (from tensorflow) (2.19.0)\n",
            "Requirement already satisfied: keras>=3.5.0 in /usr/local/lib/python3.11/dist-packages (from tensorflow) (3.8.0)\n",
            "Requirement already satisfied: numpy<2.2.0,>=1.26.0 in /usr/local/lib/python3.11/dist-packages (from tensorflow) (2.0.2)\n",
            "Requirement already satisfied: h5py>=3.11.0 in /usr/local/lib/python3.11/dist-packages (from tensorflow) (3.13.0)\n",
            "Requirement already satisfied: ml-dtypes<1.0.0,>=0.5.1 in /usr/local/lib/python3.11/dist-packages (from tensorflow) (0.5.1)\n",
            "Requirement already satisfied: tensorflow-io-gcs-filesystem>=0.23.1 in /usr/local/lib/python3.11/dist-packages (from tensorflow) (0.37.1)\n",
            "Requirement already satisfied: wheel<1.0,>=0.23.0 in /usr/local/lib/python3.11/dist-packages (from astunparse>=1.6.0->tensorflow) (0.45.1)\n",
            "Requirement already satisfied: rich in /usr/local/lib/python3.11/dist-packages (from keras>=3.5.0->tensorflow) (13.9.4)\n",
            "Requirement already satisfied: namex in /usr/local/lib/python3.11/dist-packages (from keras>=3.5.0->tensorflow) (0.0.8)\n",
            "Requirement already satisfied: optree in /usr/local/lib/python3.11/dist-packages (from keras>=3.5.0->tensorflow) (0.14.1)\n",
            "Requirement already satisfied: charset-normalizer<4,>=2 in /usr/local/lib/python3.11/dist-packages (from requests<3,>=2.21.0->tensorflow) (3.4.1)\n",
            "Requirement already satisfied: idna<4,>=2.5 in /usr/local/lib/python3.11/dist-packages (from requests<3,>=2.21.0->tensorflow) (3.10)\n",
            "Requirement already satisfied: urllib3<3,>=1.21.1 in /usr/local/lib/python3.11/dist-packages (from requests<3,>=2.21.0->tensorflow) (2.3.0)\n",
            "Requirement already satisfied: certifi>=2017.4.17 in /usr/local/lib/python3.11/dist-packages (from requests<3,>=2.21.0->tensorflow) (2025.1.31)\n",
            "Requirement already satisfied: markdown>=2.6.8 in /usr/local/lib/python3.11/dist-packages (from tensorboard~=2.19.0->tensorflow) (3.7)\n",
            "Requirement already satisfied: tensorboard-data-server<0.8.0,>=0.7.0 in /usr/local/lib/python3.11/dist-packages (from tensorboard~=2.19.0->tensorflow) (0.7.2)\n",
            "Requirement already satisfied: werkzeug>=1.0.1 in /usr/local/lib/python3.11/dist-packages (from tensorboard~=2.19.0->tensorflow) (3.1.3)\n",
            "Requirement already satisfied: MarkupSafe>=2.1.1 in /usr/local/lib/python3.11/dist-packages (from werkzeug>=1.0.1->tensorboard~=2.19.0->tensorflow) (3.0.2)\n",
            "Requirement already satisfied: markdown-it-py>=2.2.0 in /usr/local/lib/python3.11/dist-packages (from rich->keras>=3.5.0->tensorflow) (3.0.0)\n",
            "Requirement already satisfied: pygments<3.0.0,>=2.13.0 in /usr/local/lib/python3.11/dist-packages (from rich->keras>=3.5.0->tensorflow) (2.18.0)\n",
            "Requirement already satisfied: mdurl~=0.1 in /usr/local/lib/python3.11/dist-packages (from markdown-it-py>=2.2.0->rich->keras>=3.5.0->tensorflow) (0.1.2)\n"
          ]
        }
      ],
      "source": [
        "!pip install --upgrade tensorflow"
      ]
    },
    {
      "cell_type": "code",
      "execution_count": null,
      "metadata": {
        "colab": {
          "base_uri": "https://localhost:8080/"
        },
        "id": "ufRhDBmTAIPY",
        "outputId": "a9d02731-bc27-419c-e7b6-560be2558046"
      },
      "outputs": [
        {
          "output_type": "stream",
          "name": "stdout",
          "text": [
            "Requirement already satisfied: split-folders in /usr/local/lib/python3.11/dist-packages (0.5.1)\n"
          ]
        }
      ],
      "source": [
        "!pip install split-folders"
      ]
    },
    {
      "cell_type": "code",
      "execution_count": null,
      "metadata": {
        "colab": {
          "base_uri": "https://localhost:8080/"
        },
        "id": "80IQcMawATqi",
        "outputId": "5560ef3f-2c1c-42ec-9e45-08f97e8db0a6"
      },
      "outputs": [
        {
          "metadata": {
            "tags": null
          },
          "name": "stdout",
          "output_type": "stream",
          "text": [
            "Mounted at /content/drive\n",
            "Running iteration 1/10 with seed 0\n"
          ]
        },
        {
          "metadata": {
            "tags": null
          },
          "name": "stderr",
          "output_type": "stream",
          "text": [
            "Copying files: 802 files [00:32, 24.62 files/s]\n"
          ]
        },
        {
          "metadata": {
            "tags": null
          },
          "name": "stdout",
          "output_type": "stream",
          "text": [
            "Found 559 images belonging to 2 classes.\n",
            "Found 160 images belonging to 2 classes.\n",
            "Found 81 images belonging to 2 classes.\n",
            "Downloading data from https://storage.googleapis.com/tensorflow/keras-applications/mobilenet_v2/mobilenet_v2_weights_tf_dim_ordering_tf_kernels_1.0_224_no_top.h5\n",
            "\u001b[1m9406464/9406464\u001b[0m \u001b[32m━━━━━━━━━━━━━━━━━━━━\u001b[0m\u001b[37m\u001b[0m \u001b[1m1s\u001b[0m 0us/step\n"
          ]
        },
        {
          "metadata": {
            "tags": null
          },
          "name": "stderr",
          "output_type": "stream",
          "text": [
            "/usr/local/lib/python3.11/dist-packages/keras/src/trainers/data_adapters/py_dataset_adapter.py:121: UserWarning: Your `PyDataset` class should call `super().__init__(**kwargs)` in its constructor. `**kwargs` can include `workers`, `use_multiprocessing`, `max_queue_size`. Do not pass these arguments to `fit()`, as they will be ignored.\n",
            "  self._warn_if_super_not_called()\n"
          ]
        },
        {
          "metadata": {
            "tags": null
          },
          "name": "stdout",
          "output_type": "stream",
          "text": [
            "Epoch 1/30\n",
            "\u001b[1m18/18\u001b[0m \u001b[32m━━━━━━━━━━━━━━━━━━━━\u001b[0m\u001b[37m\u001b[0m \u001b[1m50s\u001b[0m 2s/step - accuracy: 0.5967 - loss: 0.6707 - val_accuracy: 0.8188 - val_loss: 0.4728 - learning_rate: 7.0000e-05\n",
            "Epoch 2/30\n",
            "\u001b[1m18/18\u001b[0m \u001b[32m━━━━━━━━━━━━━━━━━━━━\u001b[0m\u001b[37m\u001b[0m \u001b[1m81s\u001b[0m 2s/step - accuracy: 0.7393 - loss: 0.5250 - val_accuracy: 0.8875 - val_loss: 0.3892 - learning_rate: 7.0000e-05\n",
            "Epoch 3/30\n",
            "\u001b[1m18/18\u001b[0m \u001b[32m━━━━━━━━━━━━━━━━━━━━\u001b[0m\u001b[37m\u001b[0m \u001b[1m41s\u001b[0m 2s/step - accuracy: 0.8652 - loss: 0.4102 - val_accuracy: 0.9000 - val_loss: 0.3300 - learning_rate: 7.0000e-05\n",
            "Epoch 4/30\n",
            "\u001b[1m18/18\u001b[0m \u001b[32m━━━━━━━━━━━━━━━━━━━━\u001b[0m\u001b[37m\u001b[0m \u001b[1m43s\u001b[0m 2s/step - accuracy: 0.8565 - loss: 0.3630 - val_accuracy: 0.8938 - val_loss: 0.2926 - learning_rate: 7.0000e-05\n",
            "Epoch 5/30\n",
            "\u001b[1m18/18\u001b[0m \u001b[32m━━━━━━━━━━━━━━━━━━━━\u001b[0m\u001b[37m\u001b[0m \u001b[1m41s\u001b[0m 2s/step - accuracy: 0.8678 - loss: 0.3412 - val_accuracy: 0.9062 - val_loss: 0.2709 - learning_rate: 7.0000e-05\n",
            "Epoch 6/30\n",
            "\u001b[1m18/18\u001b[0m \u001b[32m━━━━━━━━━━━━━━━━━━━━\u001b[0m\u001b[37m\u001b[0m \u001b[1m43s\u001b[0m 2s/step - accuracy: 0.9085 - loss: 0.2907 - val_accuracy: 0.9125 - val_loss: 0.2473 - learning_rate: 7.0000e-05\n",
            "Epoch 7/30\n",
            "\u001b[1m18/18\u001b[0m \u001b[32m━━━━━━━━━━━━━━━━━━━━\u001b[0m\u001b[37m\u001b[0m \u001b[1m46s\u001b[0m 3s/step - accuracy: 0.9249 - loss: 0.2492 - val_accuracy: 0.9125 - val_loss: 0.2314 - learning_rate: 7.0000e-05\n",
            "Epoch 8/30\n",
            "\u001b[1m18/18\u001b[0m \u001b[32m━━━━━━━━━━━━━━━━━━━━\u001b[0m\u001b[37m\u001b[0m \u001b[1m42s\u001b[0m 2s/step - accuracy: 0.9098 - loss: 0.2476 - val_accuracy: 0.9250 - val_loss: 0.2184 - learning_rate: 7.0000e-05\n",
            "Epoch 9/30\n",
            "\u001b[1m18/18\u001b[0m \u001b[32m━━━━━━━━━━━━━━━━━━━━\u001b[0m\u001b[37m\u001b[0m \u001b[1m82s\u001b[0m 2s/step - accuracy: 0.8956 - loss: 0.2370 - val_accuracy: 0.9250 - val_loss: 0.2074 - learning_rate: 7.0000e-05\n",
            "Epoch 10/30\n",
            "\u001b[1m18/18\u001b[0m \u001b[32m━━━━━━━━━━━━━━━━━━━━\u001b[0m\u001b[37m\u001b[0m \u001b[1m42s\u001b[0m 2s/step - accuracy: 0.9196 - loss: 0.2200 - val_accuracy: 0.9250 - val_loss: 0.1983 - learning_rate: 7.0000e-05\n",
            "Epoch 11/30\n",
            "\u001b[1m18/18\u001b[0m \u001b[32m━━━━━━━━━━━━━━━━━━━━\u001b[0m\u001b[37m\u001b[0m \u001b[1m43s\u001b[0m 2s/step - accuracy: 0.9300 - loss: 0.2048 - val_accuracy: 0.9312 - val_loss: 0.1910 - learning_rate: 7.0000e-05\n",
            "Epoch 12/30\n",
            "\u001b[1m18/18\u001b[0m \u001b[32m━━━━━━━━━━━━━━━━━━━━\u001b[0m\u001b[37m\u001b[0m \u001b[1m41s\u001b[0m 2s/step - accuracy: 0.9449 - loss: 0.1747 - val_accuracy: 0.9312 - val_loss: 0.1844 - learning_rate: 7.0000e-05\n",
            "Epoch 13/30\n",
            "\u001b[1m18/18\u001b[0m \u001b[32m━━━━━━━━━━━━━━━━━━━━\u001b[0m\u001b[37m\u001b[0m \u001b[1m44s\u001b[0m 2s/step - accuracy: 0.9236 - loss: 0.1966 - val_accuracy: 0.9438 - val_loss: 0.1810 - learning_rate: 7.0000e-05\n",
            "Epoch 14/30\n",
            "\u001b[1m18/18\u001b[0m \u001b[32m━━━━━━━━━━━━━━━━━━━━\u001b[0m\u001b[37m\u001b[0m \u001b[1m43s\u001b[0m 2s/step - accuracy: 0.9432 - loss: 0.1756 - val_accuracy: 0.9375 - val_loss: 0.1759 - learning_rate: 7.0000e-05\n",
            "Epoch 15/30\n",
            "\u001b[1m18/18\u001b[0m \u001b[32m━━━━━━━━━━━━━━━━━━━━\u001b[0m\u001b[37m\u001b[0m \u001b[1m42s\u001b[0m 2s/step - accuracy: 0.9277 - loss: 0.1858 - val_accuracy: 0.9250 - val_loss: 0.1731 - learning_rate: 7.0000e-05\n",
            "Epoch 16/30\n",
            "\u001b[1m18/18\u001b[0m \u001b[32m━━━━━━━━━━━━━━━━━━━━\u001b[0m\u001b[37m\u001b[0m \u001b[1m43s\u001b[0m 2s/step - accuracy: 0.9416 - loss: 0.1757 - val_accuracy: 0.9438 - val_loss: 0.1693 - learning_rate: 7.0000e-05\n",
            "Epoch 17/30\n",
            "\u001b[1m18/18\u001b[0m \u001b[32m━━━━━━━━━━━━━━━━━━━━\u001b[0m\u001b[37m\u001b[0m \u001b[1m42s\u001b[0m 2s/step - accuracy: 0.9309 - loss: 0.1763 - val_accuracy: 0.9438 - val_loss: 0.1719 - learning_rate: 7.0000e-05\n",
            "Epoch 18/30\n",
            "\u001b[1m18/18\u001b[0m \u001b[32m━━━━━━━━━━━━━━━━━━━━\u001b[0m\u001b[37m\u001b[0m \u001b[1m43s\u001b[0m 2s/step - accuracy: 0.9411 - loss: 0.1689 - val_accuracy: 0.9375 - val_loss: 0.1649 - learning_rate: 7.0000e-05\n",
            "Epoch 19/30\n",
            "\u001b[1m18/18\u001b[0m \u001b[32m━━━━━━━━━━━━━━━━━━━━\u001b[0m\u001b[37m\u001b[0m \u001b[1m42s\u001b[0m 2s/step - accuracy: 0.9465 - loss: 0.1627 - val_accuracy: 0.9375 - val_loss: 0.1630 - learning_rate: 7.0000e-05\n",
            "Epoch 20/30\n",
            "\u001b[1m18/18\u001b[0m \u001b[32m━━━━━━━━━━━━━━━━━━━━\u001b[0m\u001b[37m\u001b[0m \u001b[1m47s\u001b[0m 3s/step - accuracy: 0.9506 - loss: 0.1524 - val_accuracy: 0.9375 - val_loss: 0.1605 - learning_rate: 7.0000e-05\n",
            "Epoch 21/30\n",
            "\u001b[1m18/18\u001b[0m \u001b[32m━━━━━━━━━━━━━━━━━━━━\u001b[0m\u001b[37m\u001b[0m \u001b[1m43s\u001b[0m 2s/step - accuracy: 0.9547 - loss: 0.1223 - val_accuracy: 0.9375 - val_loss: 0.1590 - learning_rate: 7.0000e-05\n",
            "Epoch 22/30\n",
            "\u001b[1m18/18\u001b[0m \u001b[32m━━━━━━━━━━━━━━━━━━━━\u001b[0m\u001b[37m\u001b[0m \u001b[1m43s\u001b[0m 2s/step - accuracy: 0.9611 - loss: 0.1426 - val_accuracy: 0.9500 - val_loss: 0.1616 - learning_rate: 7.0000e-05\n",
            "Epoch 23/30\n",
            "\u001b[1m18/18\u001b[0m \u001b[32m━━━━━━━━━━━━━━━━━━━━\u001b[0m\u001b[37m\u001b[0m \u001b[1m43s\u001b[0m 2s/step - accuracy: 0.9390 - loss: 0.1400 - val_accuracy: 0.9375 - val_loss: 0.1584 - learning_rate: 7.0000e-05\n",
            "Epoch 24/30\n",
            "\u001b[1m18/18\u001b[0m \u001b[32m━━━━━━━━━━━━━━━━━━━━\u001b[0m\u001b[37m\u001b[0m \u001b[1m42s\u001b[0m 2s/step - accuracy: 0.9408 - loss: 0.1409 - val_accuracy: 0.9375 - val_loss: 0.1581 - learning_rate: 7.0000e-05\n",
            "Epoch 25/30\n",
            "\u001b[1m18/18\u001b[0m \u001b[32m━━━━━━━━━━━━━━━━━━━━\u001b[0m\u001b[37m\u001b[0m \u001b[1m44s\u001b[0m 2s/step - accuracy: 0.9596 - loss: 0.1182 - val_accuracy: 0.9438 - val_loss: 0.1634 - learning_rate: 7.0000e-05\n",
            "Epoch 26/30\n",
            "\u001b[1m18/18\u001b[0m \u001b[32m━━━━━━━━━━━━━━━━━━━━\u001b[0m\u001b[37m\u001b[0m \u001b[1m42s\u001b[0m 2s/step - accuracy: 0.9673 - loss: 0.1279 - val_accuracy: 0.9375 - val_loss: 0.1554 - learning_rate: 7.0000e-05\n",
            "Epoch 27/30\n",
            "\u001b[1m18/18\u001b[0m \u001b[32m━━━━━━━━━━━━━━━━━━━━\u001b[0m\u001b[37m\u001b[0m \u001b[1m43s\u001b[0m 2s/step - accuracy: 0.9574 - loss: 0.1076 - val_accuracy: 0.9375 - val_loss: 0.1615 - learning_rate: 7.0000e-05\n",
            "Epoch 28/30\n",
            "\u001b[1m18/18\u001b[0m \u001b[32m━━━━━━━━━━━━━━━━━━━━\u001b[0m\u001b[37m\u001b[0m \u001b[1m43s\u001b[0m 2s/step - accuracy: 0.9633 - loss: 0.1068 - val_accuracy: 0.9375 - val_loss: 0.1534 - learning_rate: 7.0000e-05\n",
            "Epoch 29/30\n",
            "\u001b[1m18/18\u001b[0m \u001b[32m━━━━━━━━━━━━━━━━━━━━\u001b[0m\u001b[37m\u001b[0m \u001b[1m42s\u001b[0m 2s/step - accuracy: 0.9548 - loss: 0.1173 - val_accuracy: 0.9375 - val_loss: 0.1539 - learning_rate: 7.0000e-05\n",
            "Epoch 30/30\n",
            "\u001b[1m18/18\u001b[0m \u001b[32m━━━━━━━━━━━━━━━━━━━━\u001b[0m\u001b[37m\u001b[0m \u001b[1m43s\u001b[0m 2s/step - accuracy: 0.9537 - loss: 0.1207 - val_accuracy: 0.9375 - val_loss: 0.1523 - learning_rate: 7.0000e-05\n",
            "\u001b[1m3/3\u001b[0m \u001b[32m━━━━━━━━━━━━━━━━━━━━\u001b[0m\u001b[37m\u001b[0m \u001b[1m3s\u001b[0m 896ms/step - accuracy: 0.9798 - loss: 0.0985\n",
            "Test accuracy for iteration 1: 0.98\n",
            "\u001b[1m3/3\u001b[0m \u001b[32m━━━━━━━━━━━━━━━━━━━━\u001b[0m\u001b[37m\u001b[0m \u001b[1m7s\u001b[0m 2s/step\n",
            "Deleted folder: /content/drive/My Drive/final_project/ver1_output\n",
            "Running iteration 2/10 with seed 1\n"
          ]
        },
        {
          "metadata": {
            "tags": null
          },
          "name": "stderr",
          "output_type": "stream",
          "text": [
            "Copying files: 802 files [00:17, 45.41 files/s]\n"
          ]
        },
        {
          "metadata": {
            "tags": null
          },
          "name": "stdout",
          "output_type": "stream",
          "text": [
            "Found 560 images belonging to 2 classes.\n",
            "Found 159 images belonging to 2 classes.\n",
            "Found 81 images belonging to 2 classes.\n"
          ]
        },
        {
          "metadata": {
            "tags": null
          },
          "name": "stderr",
          "output_type": "stream",
          "text": [
            "/usr/local/lib/python3.11/dist-packages/keras/src/trainers/data_adapters/py_dataset_adapter.py:121: UserWarning: Your `PyDataset` class should call `super().__init__(**kwargs)` in its constructor. `**kwargs` can include `workers`, `use_multiprocessing`, `max_queue_size`. Do not pass these arguments to `fit()`, as they will be ignored.\n",
            "  self._warn_if_super_not_called()\n"
          ]
        },
        {
          "metadata": {
            "tags": null
          },
          "name": "stdout",
          "output_type": "stream",
          "text": [
            "Epoch 1/30\n",
            "\u001b[1m18/18\u001b[0m \u001b[32m━━━━━━━━━━━━━━━━━━━━\u001b[0m\u001b[37m\u001b[0m \u001b[1m54s\u001b[0m 3s/step - accuracy: 0.5133 - loss: 1.0775 - val_accuracy: 0.5786 - val_loss: 0.6967 - learning_rate: 7.0000e-05\n",
            "Epoch 2/30\n",
            "\u001b[1m18/18\u001b[0m \u001b[32m━━━━━━━━━━━━━━━━━━━━\u001b[0m\u001b[37m\u001b[0m \u001b[1m41s\u001b[0m 2s/step - accuracy: 0.6190 - loss: 0.6575 - val_accuracy: 0.7107 - val_loss: 0.5641 - learning_rate: 7.0000e-05\n",
            "Epoch 3/30\n",
            "\u001b[1m18/18\u001b[0m \u001b[32m━━━━━━━━━━━━━━━━━━━━\u001b[0m\u001b[37m\u001b[0m \u001b[1m82s\u001b[0m 2s/step - accuracy: 0.7069 - loss: 0.5367 - val_accuracy: 0.7736 - val_loss: 0.4899 - learning_rate: 7.0000e-05\n",
            "Epoch 4/30\n",
            "\u001b[1m18/18\u001b[0m \u001b[32m━━━━━━━━━━━━━━━━━━━━\u001b[0m\u001b[37m\u001b[0m \u001b[1m45s\u001b[0m 2s/step - accuracy: 0.8443 - loss: 0.4193 - val_accuracy: 0.7925 - val_loss: 0.4415 - learning_rate: 7.0000e-05\n",
            "Epoch 5/30\n",
            "\u001b[1m18/18\u001b[0m \u001b[32m━━━━━━━━━━━━━━━━━━━━\u001b[0m\u001b[37m\u001b[0m \u001b[1m78s\u001b[0m 2s/step - accuracy: 0.8470 - loss: 0.3711 - val_accuracy: 0.8176 - val_loss: 0.4020 - learning_rate: 7.0000e-05\n",
            "Epoch 6/30\n",
            "\u001b[1m18/18\u001b[0m \u001b[32m━━━━━━━━━━━━━━━━━━━━\u001b[0m\u001b[37m\u001b[0m \u001b[1m41s\u001b[0m 2s/step - accuracy: 0.8517 - loss: 0.3469 - val_accuracy: 0.8239 - val_loss: 0.3739 - learning_rate: 7.0000e-05\n",
            "Epoch 7/30\n",
            "\u001b[1m18/18\u001b[0m \u001b[32m━━━━━━━━━━━━━━━━━━━━\u001b[0m\u001b[37m\u001b[0m \u001b[1m83s\u001b[0m 2s/step - accuracy: 0.8750 - loss: 0.3101 - val_accuracy: 0.8553 - val_loss: 0.3482 - learning_rate: 7.0000e-05\n",
            "Epoch 8/30\n",
            "\u001b[1m18/18\u001b[0m \u001b[32m━━━━━━━━━━━━━━━━━━━━\u001b[0m\u001b[37m\u001b[0m \u001b[1m45s\u001b[0m 2s/step - accuracy: 0.9039 - loss: 0.2989 - val_accuracy: 0.8679 - val_loss: 0.3270 - learning_rate: 7.0000e-05\n",
            "Epoch 9/30\n",
            "\u001b[1m18/18\u001b[0m \u001b[32m━━━━━━━━━━━━━━━━━━━━\u001b[0m\u001b[37m\u001b[0m \u001b[1m78s\u001b[0m 2s/step - accuracy: 0.9248 - loss: 0.2506 - val_accuracy: 0.8742 - val_loss: 0.3077 - learning_rate: 7.0000e-05\n",
            "Epoch 10/30\n",
            "\u001b[1m18/18\u001b[0m \u001b[32m━━━━━━━━━━━━━━━━━━━━\u001b[0m\u001b[37m\u001b[0m \u001b[1m45s\u001b[0m 2s/step - accuracy: 0.9061 - loss: 0.2482 - val_accuracy: 0.8805 - val_loss: 0.2945 - learning_rate: 7.0000e-05\n",
            "Epoch 11/30\n",
            "\u001b[1m18/18\u001b[0m \u001b[32m━━━━━━━━━━━━━━━━━━━━\u001b[0m\u001b[37m\u001b[0m \u001b[1m78s\u001b[0m 2s/step - accuracy: 0.9176 - loss: 0.2427 - val_accuracy: 0.8868 - val_loss: 0.2818 - learning_rate: 7.0000e-05\n",
            "Epoch 12/30\n",
            "\u001b[1m18/18\u001b[0m \u001b[32m━━━━━━━━━━━━━━━━━━━━\u001b[0m\u001b[37m\u001b[0m \u001b[1m42s\u001b[0m 2s/step - accuracy: 0.9462 - loss: 0.2033 - val_accuracy: 0.8868 - val_loss: 0.2728 - learning_rate: 7.0000e-05\n",
            "Epoch 13/30\n",
            "\u001b[1m18/18\u001b[0m \u001b[32m━━━━━━━━━━━━━━━━━━━━\u001b[0m\u001b[37m\u001b[0m \u001b[1m45s\u001b[0m 3s/step - accuracy: 0.9237 - loss: 0.2134 - val_accuracy: 0.8868 - val_loss: 0.2660 - learning_rate: 7.0000e-05\n",
            "Epoch 14/30\n",
            "\u001b[1m18/18\u001b[0m \u001b[32m━━━━━━━━━━━━━━━━━━━━\u001b[0m\u001b[37m\u001b[0m \u001b[1m81s\u001b[0m 2s/step - accuracy: 0.9361 - loss: 0.1930 - val_accuracy: 0.8868 - val_loss: 0.2610 - learning_rate: 7.0000e-05\n",
            "Epoch 15/30\n",
            "\u001b[1m18/18\u001b[0m \u001b[32m━━━━━━━━━━━━━━━━━━━━\u001b[0m\u001b[37m\u001b[0m \u001b[1m81s\u001b[0m 2s/step - accuracy: 0.9387 - loss: 0.1784 - val_accuracy: 0.9057 - val_loss: 0.2526 - learning_rate: 7.0000e-05\n",
            "Epoch 16/30\n",
            "\u001b[1m18/18\u001b[0m \u001b[32m━━━━━━━━━━━━━━━━━━━━\u001b[0m\u001b[37m\u001b[0m \u001b[1m42s\u001b[0m 2s/step - accuracy: 0.9212 - loss: 0.2197 - val_accuracy: 0.9057 - val_loss: 0.2505 - learning_rate: 7.0000e-05\n",
            "Epoch 17/30\n",
            "\u001b[1m18/18\u001b[0m \u001b[32m━━━━━━━━━━━━━━━━━━━━\u001b[0m\u001b[37m\u001b[0m \u001b[1m43s\u001b[0m 2s/step - accuracy: 0.9632 - loss: 0.1583 - val_accuracy: 0.9057 - val_loss: 0.2442 - learning_rate: 7.0000e-05\n",
            "Epoch 18/30\n",
            "\u001b[1m18/18\u001b[0m \u001b[32m━━━━━━━━━━━━━━━━━━━━\u001b[0m\u001b[37m\u001b[0m \u001b[1m44s\u001b[0m 2s/step - accuracy: 0.9556 - loss: 0.1618 - val_accuracy: 0.8994 - val_loss: 0.2417 - learning_rate: 7.0000e-05\n",
            "Epoch 19/30\n",
            "\u001b[1m18/18\u001b[0m \u001b[32m━━━━━━━━━━━━━━━━━━━━\u001b[0m\u001b[37m\u001b[0m \u001b[1m42s\u001b[0m 2s/step - accuracy: 0.9358 - loss: 0.1743 - val_accuracy: 0.9119 - val_loss: 0.2352 - learning_rate: 7.0000e-05\n",
            "Epoch 20/30\n",
            "\u001b[1m18/18\u001b[0m \u001b[32m━━━━━━━━━━━━━━━━━━━━\u001b[0m\u001b[37m\u001b[0m \u001b[1m41s\u001b[0m 2s/step - accuracy: 0.9425 - loss: 0.1546 - val_accuracy: 0.9119 - val_loss: 0.2303 - learning_rate: 7.0000e-05\n",
            "Epoch 21/30\n",
            "\u001b[1m18/18\u001b[0m \u001b[32m━━━━━━━━━━━━━━━━━━━━\u001b[0m\u001b[37m\u001b[0m \u001b[1m44s\u001b[0m 2s/step - accuracy: 0.9445 - loss: 0.1650 - val_accuracy: 0.9119 - val_loss: 0.2249 - learning_rate: 7.0000e-05\n",
            "Epoch 22/30\n",
            "\u001b[1m18/18\u001b[0m \u001b[32m━━━━━━━━━━━━━━━━━━━━\u001b[0m\u001b[37m\u001b[0m \u001b[1m42s\u001b[0m 2s/step - accuracy: 0.9395 - loss: 0.1528 - val_accuracy: 0.9119 - val_loss: 0.2225 - learning_rate: 7.0000e-05\n",
            "Epoch 23/30\n",
            "\u001b[1m18/18\u001b[0m \u001b[32m━━━━━━━━━━━━━━━━━━━━\u001b[0m\u001b[37m\u001b[0m \u001b[1m43s\u001b[0m 2s/step - accuracy: 0.9319 - loss: 0.1685 - val_accuracy: 0.9119 - val_loss: 0.2223 - learning_rate: 7.0000e-05\n",
            "Epoch 24/30\n",
            "\u001b[1m18/18\u001b[0m \u001b[32m━━━━━━━━━━━━━━━━━━━━\u001b[0m\u001b[37m\u001b[0m \u001b[1m42s\u001b[0m 2s/step - accuracy: 0.9342 - loss: 0.1568 - val_accuracy: 0.9182 - val_loss: 0.2168 - learning_rate: 7.0000e-05\n",
            "Epoch 25/30\n",
            "\u001b[1m18/18\u001b[0m \u001b[32m━━━━━━━━━━━━━━━━━━━━\u001b[0m\u001b[37m\u001b[0m \u001b[1m82s\u001b[0m 2s/step - accuracy: 0.9611 - loss: 0.1227 - val_accuracy: 0.9119 - val_loss: 0.2123 - learning_rate: 7.0000e-05\n",
            "Epoch 26/30\n",
            "\u001b[1m18/18\u001b[0m \u001b[32m━━━━━━━━━━━━━━━━━━━━\u001b[0m\u001b[37m\u001b[0m \u001b[1m42s\u001b[0m 2s/step - accuracy: 0.9478 - loss: 0.1331 - val_accuracy: 0.9245 - val_loss: 0.2099 - learning_rate: 7.0000e-05\n",
            "Epoch 27/30\n",
            "\u001b[1m18/18\u001b[0m \u001b[32m━━━━━━━━━━━━━━━━━━━━\u001b[0m\u001b[37m\u001b[0m \u001b[1m42s\u001b[0m 2s/step - accuracy: 0.9476 - loss: 0.1343 - val_accuracy: 0.9182 - val_loss: 0.2100 - learning_rate: 7.0000e-05\n",
            "Epoch 28/30\n",
            "\u001b[1m18/18\u001b[0m \u001b[32m━━━━━━━━━━━━━━━━━━━━\u001b[0m\u001b[37m\u001b[0m \u001b[1m41s\u001b[0m 2s/step - accuracy: 0.9592 - loss: 0.1251 - val_accuracy: 0.9245 - val_loss: 0.2127 - learning_rate: 7.0000e-05\n",
            "Epoch 29/30\n",
            "\u001b[1m18/18\u001b[0m \u001b[32m━━━━━━━━━━━━━━━━━━━━\u001b[0m\u001b[37m\u001b[0m \u001b[1m41s\u001b[0m 2s/step - accuracy: 0.9478 - loss: 0.1356 - val_accuracy: 0.9182 - val_loss: 0.2137 - learning_rate: 7.0000e-05\n",
            "Epoch 30/30\n",
            "\u001b[1m18/18\u001b[0m \u001b[32m━━━━━━━━━━━━━━━━━━━━\u001b[0m\u001b[37m\u001b[0m \u001b[1m44s\u001b[0m 2s/step - accuracy: 0.9507 - loss: 0.1349 - val_accuracy: 0.9182 - val_loss: 0.2083 - learning_rate: 3.5000e-05\n",
            "\u001b[1m3/3\u001b[0m \u001b[32m━━━━━━━━━━━━━━━━━━━━\u001b[0m\u001b[37m\u001b[0m \u001b[1m3s\u001b[0m 877ms/step - accuracy: 0.9541 - loss: 0.1203\n",
            "Test accuracy for iteration 2: 0.96\n",
            "\u001b[1m3/3\u001b[0m \u001b[32m━━━━━━━━━━━━━━━━━━━━\u001b[0m\u001b[37m\u001b[0m \u001b[1m7s\u001b[0m 2s/step\n",
            "Deleted folder: /content/drive/My Drive/final_project/ver1_output\n",
            "Running iteration 3/10 with seed 2\n"
          ]
        },
        {
          "metadata": {
            "tags": null
          },
          "name": "stderr",
          "output_type": "stream",
          "text": [
            "Copying files: 802 files [00:16, 48.32 files/s]\n"
          ]
        },
        {
          "metadata": {
            "tags": null
          },
          "name": "stdout",
          "output_type": "stream",
          "text": [
            "Found 559 images belonging to 2 classes.\n",
            "Found 160 images belonging to 2 classes.\n",
            "Found 81 images belonging to 2 classes.\n"
          ]
        },
        {
          "metadata": {
            "tags": null
          },
          "name": "stderr",
          "output_type": "stream",
          "text": [
            "/usr/local/lib/python3.11/dist-packages/keras/src/trainers/data_adapters/py_dataset_adapter.py:121: UserWarning: Your `PyDataset` class should call `super().__init__(**kwargs)` in its constructor. `**kwargs` can include `workers`, `use_multiprocessing`, `max_queue_size`. Do not pass these arguments to `fit()`, as they will be ignored.\n",
            "  self._warn_if_super_not_called()\n"
          ]
        },
        {
          "metadata": {
            "tags": null
          },
          "name": "stdout",
          "output_type": "stream",
          "text": [
            "Epoch 1/30\n",
            "\u001b[1m18/18\u001b[0m \u001b[32m━━━━━━━━━━━━━━━━━━━━\u001b[0m\u001b[37m\u001b[0m \u001b[1m49s\u001b[0m 2s/step - accuracy: 0.5656 - loss: 0.8032 - val_accuracy: 0.7063 - val_loss: 0.5661 - learning_rate: 7.0000e-05\n",
            "Epoch 2/30\n",
            "\u001b[1m18/18\u001b[0m \u001b[32m━━━━━━━━━━━━━━━━━━━━\u001b[0m\u001b[37m\u001b[0m \u001b[1m43s\u001b[0m 2s/step - accuracy: 0.7170 - loss: 0.5544 - val_accuracy: 0.8250 - val_loss: 0.4545 - learning_rate: 7.0000e-05\n",
            "Epoch 3/30\n",
            "\u001b[1m18/18\u001b[0m \u001b[32m━━━━━━━━━━━━━━━━━━━━\u001b[0m\u001b[37m\u001b[0m \u001b[1m41s\u001b[0m 2s/step - accuracy: 0.8148 - loss: 0.4482 - val_accuracy: 0.8375 - val_loss: 0.3902 - learning_rate: 7.0000e-05\n",
            "Epoch 4/30\n",
            "\u001b[1m18/18\u001b[0m \u001b[32m━━━━━━━━━━━━━━━━━━━━\u001b[0m\u001b[37m\u001b[0m \u001b[1m82s\u001b[0m 2s/step - accuracy: 0.8708 - loss: 0.3618 - val_accuracy: 0.8625 - val_loss: 0.3454 - learning_rate: 7.0000e-05\n",
            "Epoch 5/30\n",
            "\u001b[1m18/18\u001b[0m \u001b[32m━━━━━━━━━━━━━━━━━━━━\u001b[0m\u001b[37m\u001b[0m \u001b[1m43s\u001b[0m 2s/step - accuracy: 0.8887 - loss: 0.3510 - val_accuracy: 0.8750 - val_loss: 0.3199 - learning_rate: 7.0000e-05\n",
            "Epoch 6/30\n",
            "\u001b[1m18/18\u001b[0m \u001b[32m━━━━━━━━━━━━━━━━━━━━\u001b[0m\u001b[37m\u001b[0m \u001b[1m42s\u001b[0m 2s/step - accuracy: 0.8845 - loss: 0.3231 - val_accuracy: 0.9000 - val_loss: 0.2915 - learning_rate: 7.0000e-05\n",
            "Epoch 7/30\n",
            "\u001b[1m18/18\u001b[0m \u001b[32m━━━━━━━━━━━━━━━━━━━━\u001b[0m\u001b[37m\u001b[0m \u001b[1m41s\u001b[0m 2s/step - accuracy: 0.9144 - loss: 0.2663 - val_accuracy: 0.9000 - val_loss: 0.2742 - learning_rate: 7.0000e-05\n",
            "Epoch 8/30\n",
            "\u001b[1m18/18\u001b[0m \u001b[32m━━━━━━━━━━━━━━━━━━━━\u001b[0m\u001b[37m\u001b[0m \u001b[1m42s\u001b[0m 2s/step - accuracy: 0.9138 - loss: 0.2549 - val_accuracy: 0.9062 - val_loss: 0.2639 - learning_rate: 7.0000e-05\n",
            "Epoch 9/30\n",
            "\u001b[1m18/18\u001b[0m \u001b[32m━━━━━━━━━━━━━━━━━━━━\u001b[0m\u001b[37m\u001b[0m \u001b[1m41s\u001b[0m 2s/step - accuracy: 0.9250 - loss: 0.2224 - val_accuracy: 0.9187 - val_loss: 0.2429 - learning_rate: 7.0000e-05\n",
            "Epoch 10/30\n",
            "\u001b[1m18/18\u001b[0m \u001b[32m━━━━━━━━━━━━━━━━━━━━\u001b[0m\u001b[37m\u001b[0m \u001b[1m42s\u001b[0m 2s/step - accuracy: 0.9274 - loss: 0.2026 - val_accuracy: 0.9187 - val_loss: 0.2363 - learning_rate: 7.0000e-05\n",
            "Epoch 11/30\n",
            "\u001b[1m18/18\u001b[0m \u001b[32m━━━━━━━━━━━━━━━━━━━━\u001b[0m\u001b[37m\u001b[0m \u001b[1m44s\u001b[0m 2s/step - accuracy: 0.9380 - loss: 0.2042 - val_accuracy: 0.9062 - val_loss: 0.2298 - learning_rate: 7.0000e-05\n",
            "Epoch 12/30\n",
            "\u001b[1m18/18\u001b[0m \u001b[32m━━━━━━━━━━━━━━━━━━━━\u001b[0m\u001b[37m\u001b[0m \u001b[1m42s\u001b[0m 2s/step - accuracy: 0.9201 - loss: 0.2108 - val_accuracy: 0.9187 - val_loss: 0.2231 - learning_rate: 7.0000e-05\n",
            "Epoch 13/30\n",
            "\u001b[1m18/18\u001b[0m \u001b[32m━━━━━━━━━━━━━━━━━━━━\u001b[0m\u001b[37m\u001b[0m \u001b[1m41s\u001b[0m 2s/step - accuracy: 0.9235 - loss: 0.1902 - val_accuracy: 0.9125 - val_loss: 0.2225 - learning_rate: 7.0000e-05\n",
            "Epoch 14/30\n",
            "\u001b[1m18/18\u001b[0m \u001b[32m━━━━━━━━━━━━━━━━━━━━\u001b[0m\u001b[37m\u001b[0m \u001b[1m83s\u001b[0m 2s/step - accuracy: 0.9446 - loss: 0.1877 - val_accuracy: 0.9125 - val_loss: 0.2172 - learning_rate: 7.0000e-05\n",
            "Epoch 15/30\n",
            "\u001b[1m18/18\u001b[0m \u001b[32m━━━━━━━━━━━━━━━━━━━━\u001b[0m\u001b[37m\u001b[0m \u001b[1m42s\u001b[0m 2s/step - accuracy: 0.9376 - loss: 0.1913 - val_accuracy: 0.9187 - val_loss: 0.2097 - learning_rate: 7.0000e-05\n",
            "Epoch 16/30\n",
            "\u001b[1m18/18\u001b[0m \u001b[32m━━━━━━━━━━━━━━━━━━━━\u001b[0m\u001b[37m\u001b[0m \u001b[1m43s\u001b[0m 2s/step - accuracy: 0.9414 - loss: 0.1845 - val_accuracy: 0.9187 - val_loss: 0.2084 - learning_rate: 7.0000e-05\n",
            "Epoch 17/30\n",
            "\u001b[1m18/18\u001b[0m \u001b[32m━━━━━━━━━━━━━━━━━━━━\u001b[0m\u001b[37m\u001b[0m \u001b[1m42s\u001b[0m 2s/step - accuracy: 0.9557 - loss: 0.1637 - val_accuracy: 0.9187 - val_loss: 0.2026 - learning_rate: 7.0000e-05\n",
            "Epoch 18/30\n",
            "\u001b[1m18/18\u001b[0m \u001b[32m━━━━━━━━━━━━━━━━━━━━\u001b[0m\u001b[37m\u001b[0m \u001b[1m43s\u001b[0m 2s/step - accuracy: 0.9367 - loss: 0.1641 - val_accuracy: 0.9125 - val_loss: 0.2069 - learning_rate: 7.0000e-05\n",
            "Epoch 19/30\n",
            "\u001b[1m18/18\u001b[0m \u001b[32m━━━━━━━━━━━━━━━━━━━━\u001b[0m\u001b[37m\u001b[0m \u001b[1m42s\u001b[0m 2s/step - accuracy: 0.9499 - loss: 0.1446 - val_accuracy: 0.9312 - val_loss: 0.1984 - learning_rate: 7.0000e-05\n",
            "Epoch 20/30\n",
            "\u001b[1m18/18\u001b[0m \u001b[32m━━━━━━━━━━━━━━━━━━━━\u001b[0m\u001b[37m\u001b[0m \u001b[1m43s\u001b[0m 2s/step - accuracy: 0.9604 - loss: 0.1336 - val_accuracy: 0.9187 - val_loss: 0.2018 - learning_rate: 7.0000e-05\n",
            "Epoch 21/30\n",
            "\u001b[1m18/18\u001b[0m \u001b[32m━━━━━━━━━━━━━━━━━━━━\u001b[0m\u001b[37m\u001b[0m \u001b[1m43s\u001b[0m 2s/step - accuracy: 0.9495 - loss: 0.1483 - val_accuracy: 0.9312 - val_loss: 0.1947 - learning_rate: 7.0000e-05\n",
            "Epoch 22/30\n",
            "\u001b[1m18/18\u001b[0m \u001b[32m━━━━━━━━━━━━━━━━━━━━\u001b[0m\u001b[37m\u001b[0m \u001b[1m41s\u001b[0m 2s/step - accuracy: 0.9556 - loss: 0.1446 - val_accuracy: 0.9250 - val_loss: 0.1897 - learning_rate: 7.0000e-05\n",
            "Epoch 23/30\n",
            "\u001b[1m18/18\u001b[0m \u001b[32m━━━━━━━━━━━━━━━━━━━━\u001b[0m\u001b[37m\u001b[0m \u001b[1m82s\u001b[0m 2s/step - accuracy: 0.9520 - loss: 0.1233 - val_accuracy: 0.9250 - val_loss: 0.1895 - learning_rate: 7.0000e-05\n",
            "Epoch 24/30\n",
            "\u001b[1m18/18\u001b[0m \u001b[32m━━━━━━━━━━━━━━━━━━━━\u001b[0m\u001b[37m\u001b[0m \u001b[1m42s\u001b[0m 2s/step - accuracy: 0.9461 - loss: 0.1456 - val_accuracy: 0.9312 - val_loss: 0.1864 - learning_rate: 7.0000e-05\n",
            "Epoch 25/30\n",
            "\u001b[1m18/18\u001b[0m \u001b[32m━━━━━━━━━━━━━━━━━━━━\u001b[0m\u001b[37m\u001b[0m \u001b[1m42s\u001b[0m 2s/step - accuracy: 0.9406 - loss: 0.1613 - val_accuracy: 0.9312 - val_loss: 0.1835 - learning_rate: 7.0000e-05\n",
            "Epoch 26/30\n",
            "\u001b[1m18/18\u001b[0m \u001b[32m━━━━━━━━━━━━━━━━━━━━\u001b[0m\u001b[37m\u001b[0m \u001b[1m43s\u001b[0m 2s/step - accuracy: 0.9616 - loss: 0.1354 - val_accuracy: 0.9312 - val_loss: 0.1807 - learning_rate: 7.0000e-05\n",
            "Epoch 27/30\n",
            "\u001b[1m18/18\u001b[0m \u001b[32m━━━━━━━━━━━━━━━━━━━━\u001b[0m\u001b[37m\u001b[0m \u001b[1m42s\u001b[0m 2s/step - accuracy: 0.9527 - loss: 0.1478 - val_accuracy: 0.9312 - val_loss: 0.1794 - learning_rate: 7.0000e-05\n",
            "Epoch 28/30\n",
            "\u001b[1m18/18\u001b[0m \u001b[32m━━━━━━━━━━━━━━━━━━━━\u001b[0m\u001b[37m\u001b[0m \u001b[1m42s\u001b[0m 2s/step - accuracy: 0.9597 - loss: 0.1210 - val_accuracy: 0.9312 - val_loss: 0.1827 - learning_rate: 7.0000e-05\n",
            "Epoch 29/30\n",
            "\u001b[1m18/18\u001b[0m \u001b[32m━━━━━━━━━━━━━━━━━━━━\u001b[0m\u001b[37m\u001b[0m \u001b[1m43s\u001b[0m 2s/step - accuracy: 0.9644 - loss: 0.1122 - val_accuracy: 0.9375 - val_loss: 0.1795 - learning_rate: 7.0000e-05\n",
            "Epoch 30/30\n",
            "\u001b[1m18/18\u001b[0m \u001b[32m━━━━━━━━━━━━━━━━━━━━\u001b[0m\u001b[37m\u001b[0m \u001b[1m42s\u001b[0m 2s/step - accuracy: 0.9684 - loss: 0.0996 - val_accuracy: 0.9312 - val_loss: 0.1818 - learning_rate: 7.0000e-05\n",
            "\u001b[1m3/3\u001b[0m \u001b[32m━━━━━━━━━━━━━━━━━━━━\u001b[0m\u001b[37m\u001b[0m \u001b[1m3s\u001b[0m 928ms/step - accuracy: 0.9519 - loss: 0.1436\n",
            "Test accuracy for iteration 3: 0.95\n"
          ]
        },
        {
          "metadata": {
            "tags": null
          },
          "name": "stderr",
          "output_type": "stream",
          "text": [
            "WARNING:tensorflow:5 out of the last 7 calls to <function TensorFlowTrainer.make_predict_function.<locals>.one_step_on_data_distributed at 0x7cd5fd0c37e0> triggered tf.function retracing. Tracing is expensive and the excessive number of tracings could be due to (1) creating @tf.function repeatedly in a loop, (2) passing tensors with different shapes, (3) passing Python objects instead of tensors. For (1), please define your @tf.function outside of the loop. For (2), @tf.function has reduce_retracing=True option that can avoid unnecessary retracing. For (3), please refer to https://www.tensorflow.org/guide/function#controlling_retracing and https://www.tensorflow.org/api_docs/python/tf/function for  more details.\n"
          ]
        },
        {
          "metadata": {
            "tags": null
          },
          "name": "stdout",
          "output_type": "stream",
          "text": [
            "\u001b[1m2/3\u001b[0m \u001b[32m━━━━━━━━━━━━━\u001b[0m\u001b[37m━━━━━━━\u001b[0m \u001b[1m2s\u001b[0m 2s/step"
          ]
        },
        {
          "metadata": {
            "tags": null
          },
          "name": "stderr",
          "output_type": "stream",
          "text": [
            "WARNING:tensorflow:6 out of the last 9 calls to <function TensorFlowTrainer.make_predict_function.<locals>.one_step_on_data_distributed at 0x7cd5fd0c37e0> triggered tf.function retracing. Tracing is expensive and the excessive number of tracings could be due to (1) creating @tf.function repeatedly in a loop, (2) passing tensors with different shapes, (3) passing Python objects instead of tensors. For (1), please define your @tf.function outside of the loop. For (2), @tf.function has reduce_retracing=True option that can avoid unnecessary retracing. For (3), please refer to https://www.tensorflow.org/guide/function#controlling_retracing and https://www.tensorflow.org/api_docs/python/tf/function for  more details.\n"
          ]
        },
        {
          "metadata": {
            "tags": null
          },
          "name": "stdout",
          "output_type": "stream",
          "text": [
            "\u001b[1m3/3\u001b[0m \u001b[32m━━━━━━━━━━━━━━━━━━━━\u001b[0m\u001b[37m\u001b[0m \u001b[1m8s\u001b[0m 2s/step\n",
            "Deleted folder: /content/drive/My Drive/final_project/ver1_output\n",
            "Running iteration 4/10 with seed 3\n"
          ]
        },
        {
          "metadata": {
            "tags": null
          },
          "name": "stderr",
          "output_type": "stream",
          "text": [
            "Copying files: 802 files [00:16, 48.74 files/s]\n"
          ]
        },
        {
          "metadata": {
            "tags": null
          },
          "name": "stdout",
          "output_type": "stream",
          "text": [
            "Found 560 images belonging to 2 classes.\n",
            "Found 160 images belonging to 2 classes.\n",
            "Found 80 images belonging to 2 classes.\n"
          ]
        },
        {
          "metadata": {
            "tags": null
          },
          "name": "stderr",
          "output_type": "stream",
          "text": [
            "/usr/local/lib/python3.11/dist-packages/keras/src/trainers/data_adapters/py_dataset_adapter.py:121: UserWarning: Your `PyDataset` class should call `super().__init__(**kwargs)` in its constructor. `**kwargs` can include `workers`, `use_multiprocessing`, `max_queue_size`. Do not pass these arguments to `fit()`, as they will be ignored.\n",
            "  self._warn_if_super_not_called()\n"
          ]
        },
        {
          "metadata": {
            "tags": null
          },
          "name": "stdout",
          "output_type": "stream",
          "text": [
            "Epoch 1/30\n",
            "\u001b[1m18/18\u001b[0m \u001b[32m━━━━━━━━━━━━━━━━━━━━\u001b[0m\u001b[37m\u001b[0m \u001b[1m51s\u001b[0m 2s/step - accuracy: 0.5686 - loss: 0.7417 - val_accuracy: 0.7188 - val_loss: 0.5986 - learning_rate: 7.0000e-05\n",
            "Epoch 2/30\n",
            "\u001b[1m18/18\u001b[0m \u001b[32m━━━━━━━━━━━━━━━━━━━━\u001b[0m\u001b[37m\u001b[0m \u001b[1m42s\u001b[0m 2s/step - accuracy: 0.7094 - loss: 0.5809 - val_accuracy: 0.8188 - val_loss: 0.4544 - learning_rate: 7.0000e-05\n",
            "Epoch 3/30\n",
            "\u001b[1m18/18\u001b[0m \u001b[32m━━━━━━━━━━━━━━━━━━━━\u001b[0m\u001b[37m\u001b[0m \u001b[1m44s\u001b[0m 2s/step - accuracy: 0.7520 - loss: 0.4805 - val_accuracy: 0.8875 - val_loss: 0.3693 - learning_rate: 7.0000e-05\n",
            "Epoch 4/30\n",
            "\u001b[1m18/18\u001b[0m \u001b[32m━━━━━━━━━━━━━━━━━━━━\u001b[0m\u001b[37m\u001b[0m \u001b[1m42s\u001b[0m 2s/step - accuracy: 0.8276 - loss: 0.3979 - val_accuracy: 0.9187 - val_loss: 0.3211 - learning_rate: 7.0000e-05\n",
            "Epoch 5/30\n",
            "\u001b[1m18/18\u001b[0m \u001b[32m━━━━━━━━━━━━━━━━━━━━\u001b[0m\u001b[37m\u001b[0m \u001b[1m44s\u001b[0m 2s/step - accuracy: 0.8819 - loss: 0.3248 - val_accuracy: 0.9312 - val_loss: 0.2849 - learning_rate: 7.0000e-05\n",
            "Epoch 6/30\n",
            "\u001b[1m18/18\u001b[0m \u001b[32m━━━━━━━━━━━━━━━━━━━━\u001b[0m\u001b[37m\u001b[0m \u001b[1m42s\u001b[0m 2s/step - accuracy: 0.9100 - loss: 0.2792 - val_accuracy: 0.9375 - val_loss: 0.2563 - learning_rate: 7.0000e-05\n",
            "Epoch 7/30\n",
            "\u001b[1m18/18\u001b[0m \u001b[32m━━━━━━━━━━━━━━━━━━━━\u001b[0m\u001b[37m\u001b[0m \u001b[1m41s\u001b[0m 2s/step - accuracy: 0.9113 - loss: 0.2633 - val_accuracy: 0.9312 - val_loss: 0.2322 - learning_rate: 7.0000e-05\n",
            "Epoch 8/30\n",
            "\u001b[1m18/18\u001b[0m \u001b[32m━━━━━━━━━━━━━━━━━━━━\u001b[0m\u001b[37m\u001b[0m \u001b[1m42s\u001b[0m 2s/step - accuracy: 0.9299 - loss: 0.2368 - val_accuracy: 0.9438 - val_loss: 0.2225 - learning_rate: 7.0000e-05\n",
            "Epoch 9/30\n",
            "\u001b[1m18/18\u001b[0m \u001b[32m━━━━━━━━━━━━━━━━━━━━\u001b[0m\u001b[37m\u001b[0m \u001b[1m85s\u001b[0m 2s/step - accuracy: 0.9195 - loss: 0.2411 - val_accuracy: 0.9438 - val_loss: 0.2087 - learning_rate: 7.0000e-05\n",
            "Epoch 10/30\n",
            "\u001b[1m18/18\u001b[0m \u001b[32m━━━━━━━━━━━━━━━━━━━━\u001b[0m\u001b[37m\u001b[0m \u001b[1m42s\u001b[0m 2s/step - accuracy: 0.9123 - loss: 0.2455 - val_accuracy: 0.9500 - val_loss: 0.1900 - learning_rate: 7.0000e-05\n",
            "Epoch 11/30\n",
            "\u001b[1m18/18\u001b[0m \u001b[32m━━━━━━━━━━━━━━━━━━━━\u001b[0m\u001b[37m\u001b[0m \u001b[1m45s\u001b[0m 2s/step - accuracy: 0.9259 - loss: 0.2051 - val_accuracy: 0.9500 - val_loss: 0.1853 - learning_rate: 7.0000e-05\n",
            "Epoch 12/30\n",
            "\u001b[1m18/18\u001b[0m \u001b[32m━━━━━━━━━━━━━━━━━━━━\u001b[0m\u001b[37m\u001b[0m \u001b[1m42s\u001b[0m 2s/step - accuracy: 0.9350 - loss: 0.1878 - val_accuracy: 0.9563 - val_loss: 0.1778 - learning_rate: 7.0000e-05\n",
            "Epoch 13/30\n",
            "\u001b[1m18/18\u001b[0m \u001b[32m━━━━━━━━━━━━━━━━━━━━\u001b[0m\u001b[37m\u001b[0m \u001b[1m81s\u001b[0m 2s/step - accuracy: 0.9369 - loss: 0.1829 - val_accuracy: 0.9500 - val_loss: 0.1775 - learning_rate: 7.0000e-05\n",
            "Epoch 14/30\n",
            "\u001b[1m18/18\u001b[0m \u001b[32m━━━━━━━━━━━━━━━━━━━━\u001b[0m\u001b[37m\u001b[0m \u001b[1m41s\u001b[0m 2s/step - accuracy: 0.9378 - loss: 0.1730 - val_accuracy: 0.9438 - val_loss: 0.1667 - learning_rate: 7.0000e-05\n",
            "Epoch 15/30\n",
            "\u001b[1m18/18\u001b[0m \u001b[32m━━━━━━━━━━━━━━━━━━━━\u001b[0m\u001b[37m\u001b[0m \u001b[1m41s\u001b[0m 2s/step - accuracy: 0.9469 - loss: 0.1583 - val_accuracy: 0.9438 - val_loss: 0.1604 - learning_rate: 7.0000e-05\n",
            "Epoch 16/30\n",
            "\u001b[1m18/18\u001b[0m \u001b[32m━━━━━━━━━━━━━━━━━━━━\u001b[0m\u001b[37m\u001b[0m \u001b[1m41s\u001b[0m 2s/step - accuracy: 0.9387 - loss: 0.1567 - val_accuracy: 0.9375 - val_loss: 0.1691 - learning_rate: 7.0000e-05\n",
            "Epoch 17/30\n",
            "\u001b[1m18/18\u001b[0m \u001b[32m━━━━━━━━━━━━━━━━━━━━\u001b[0m\u001b[37m\u001b[0m \u001b[1m41s\u001b[0m 2s/step - accuracy: 0.9587 - loss: 0.1438 - val_accuracy: 0.9438 - val_loss: 0.1561 - learning_rate: 7.0000e-05\n",
            "Epoch 18/30\n",
            "\u001b[1m18/18\u001b[0m \u001b[32m━━━━━━━━━━━━━━━━━━━━\u001b[0m\u001b[37m\u001b[0m \u001b[1m43s\u001b[0m 2s/step - accuracy: 0.9425 - loss: 0.1505 - val_accuracy: 0.9375 - val_loss: 0.1598 - learning_rate: 7.0000e-05\n",
            "Epoch 19/30\n",
            "\u001b[1m18/18\u001b[0m \u001b[32m━━━━━━━━━━━━━━━━━━━━\u001b[0m\u001b[37m\u001b[0m \u001b[1m42s\u001b[0m 2s/step - accuracy: 0.9730 - loss: 0.1278 - val_accuracy: 0.9375 - val_loss: 0.1479 - learning_rate: 7.0000e-05\n",
            "Epoch 20/30\n",
            "\u001b[1m18/18\u001b[0m \u001b[32m━━━━━━━━━━━━━━━━━━━━\u001b[0m\u001b[37m\u001b[0m \u001b[1m44s\u001b[0m 2s/step - accuracy: 0.9383 - loss: 0.1511 - val_accuracy: 0.9312 - val_loss: 0.1536 - learning_rate: 7.0000e-05\n",
            "Epoch 21/30\n",
            "\u001b[1m18/18\u001b[0m \u001b[32m━━━━━━━━━━━━━━━━━━━━\u001b[0m\u001b[37m\u001b[0m \u001b[1m42s\u001b[0m 2s/step - accuracy: 0.9628 - loss: 0.1447 - val_accuracy: 0.9500 - val_loss: 0.1404 - learning_rate: 7.0000e-05\n",
            "Epoch 22/30\n",
            "\u001b[1m18/18\u001b[0m \u001b[32m━━━━━━━━━━━━━━━━━━━━\u001b[0m\u001b[37m\u001b[0m \u001b[1m43s\u001b[0m 2s/step - accuracy: 0.9628 - loss: 0.1236 - val_accuracy: 0.9312 - val_loss: 0.1514 - learning_rate: 7.0000e-05\n",
            "Epoch 23/30\n",
            "\u001b[1m18/18\u001b[0m \u001b[32m━━━━━━━━━━━━━━━━━━━━\u001b[0m\u001b[37m\u001b[0m \u001b[1m42s\u001b[0m 2s/step - accuracy: 0.9459 - loss: 0.1538 - val_accuracy: 0.9375 - val_loss: 0.1463 - learning_rate: 7.0000e-05\n",
            "Epoch 24/30\n",
            "\u001b[1m18/18\u001b[0m \u001b[32m━━━━━━━━━━━━━━━━━━━━\u001b[0m\u001b[37m\u001b[0m \u001b[1m44s\u001b[0m 2s/step - accuracy: 0.9663 - loss: 0.1252 - val_accuracy: 0.9375 - val_loss: 0.1418 - learning_rate: 7.0000e-05\n",
            "Epoch 25/30\n",
            "\u001b[1m18/18\u001b[0m \u001b[32m━━━━━━━━━━━━━━━━━━━━\u001b[0m\u001b[37m\u001b[0m \u001b[1m42s\u001b[0m 2s/step - accuracy: 0.9575 - loss: 0.1119 - val_accuracy: 0.9438 - val_loss: 0.1360 - learning_rate: 3.5000e-05\n",
            "Epoch 26/30\n",
            "\u001b[1m18/18\u001b[0m \u001b[32m━━━━━━━━━━━━━━━━━━━━\u001b[0m\u001b[37m\u001b[0m \u001b[1m44s\u001b[0m 2s/step - accuracy: 0.9668 - loss: 0.1139 - val_accuracy: 0.9438 - val_loss: 0.1390 - learning_rate: 3.5000e-05\n",
            "Epoch 27/30\n",
            "\u001b[1m18/18\u001b[0m \u001b[32m━━━━━━━━━━━━━━━━━━━━\u001b[0m\u001b[37m\u001b[0m \u001b[1m42s\u001b[0m 2s/step - accuracy: 0.9558 - loss: 0.1271 - val_accuracy: 0.9375 - val_loss: 0.1404 - learning_rate: 3.5000e-05\n",
            "Epoch 28/30\n",
            "\u001b[1m18/18\u001b[0m \u001b[32m━━━━━━━━━━━━━━━━━━━━\u001b[0m\u001b[37m\u001b[0m \u001b[1m42s\u001b[0m 2s/step - accuracy: 0.9658 - loss: 0.1231 - val_accuracy: 0.9438 - val_loss: 0.1309 - learning_rate: 3.5000e-05\n",
            "Epoch 29/30\n",
            "\u001b[1m18/18\u001b[0m \u001b[32m━━━━━━━━━━━━━━━━━━━━\u001b[0m\u001b[37m\u001b[0m \u001b[1m44s\u001b[0m 2s/step - accuracy: 0.9524 - loss: 0.1296 - val_accuracy: 0.9375 - val_loss: 0.1453 - learning_rate: 3.5000e-05\n",
            "Epoch 30/30\n",
            "\u001b[1m18/18\u001b[0m \u001b[32m━━━━━━━━━━━━━━━━━━━━\u001b[0m\u001b[37m\u001b[0m \u001b[1m42s\u001b[0m 2s/step - accuracy: 0.9415 - loss: 0.1494 - val_accuracy: 0.9438 - val_loss: 0.1289 - learning_rate: 3.5000e-05\n",
            "\u001b[1m3/3\u001b[0m \u001b[32m━━━━━━━━━━━━━━━━━━━━\u001b[0m\u001b[37m\u001b[0m \u001b[1m3s\u001b[0m 873ms/step - accuracy: 0.9695 - loss: 0.0904\n",
            "Test accuracy for iteration 4: 0.96\n",
            "\u001b[1m3/3\u001b[0m \u001b[32m━━━━━━━━━━━━━━━━━━━━\u001b[0m\u001b[37m\u001b[0m \u001b[1m7s\u001b[0m 2s/step\n",
            "Deleted folder: /content/drive/My Drive/final_project/ver1_output\n",
            "Running iteration 5/10 with seed 4\n"
          ]
        },
        {
          "metadata": {
            "tags": null
          },
          "name": "stderr",
          "output_type": "stream",
          "text": [
            "Copying files: 802 files [00:15, 50.17 files/s]\n"
          ]
        },
        {
          "metadata": {
            "tags": null
          },
          "name": "stdout",
          "output_type": "stream",
          "text": [
            "Found 560 images belonging to 2 classes.\n",
            "Found 159 images belonging to 2 classes.\n",
            "Found 81 images belonging to 2 classes.\n"
          ]
        },
        {
          "metadata": {
            "tags": null
          },
          "name": "stderr",
          "output_type": "stream",
          "text": [
            "/usr/local/lib/python3.11/dist-packages/keras/src/trainers/data_adapters/py_dataset_adapter.py:121: UserWarning: Your `PyDataset` class should call `super().__init__(**kwargs)` in its constructor. `**kwargs` can include `workers`, `use_multiprocessing`, `max_queue_size`. Do not pass these arguments to `fit()`, as they will be ignored.\n",
            "  self._warn_if_super_not_called()\n"
          ]
        },
        {
          "metadata": {
            "tags": null
          },
          "name": "stdout",
          "output_type": "stream",
          "text": [
            "Epoch 1/30\n",
            "\u001b[1m18/18\u001b[0m \u001b[32m━━━━━━━━━━━━━━━━━━━━\u001b[0m\u001b[37m\u001b[0m \u001b[1m50s\u001b[0m 2s/step - accuracy: 0.5187 - loss: 0.8309 - val_accuracy: 0.7358 - val_loss: 0.5812 - learning_rate: 7.0000e-05\n",
            "Epoch 2/30\n",
            "\u001b[1m18/18\u001b[0m \u001b[32m━━━━━━━━━━━━━━━━━━━━\u001b[0m\u001b[37m\u001b[0m \u001b[1m43s\u001b[0m 2s/step - accuracy: 0.6698 - loss: 0.5781 - val_accuracy: 0.8365 - val_loss: 0.4536 - learning_rate: 7.0000e-05\n",
            "Epoch 3/30\n",
            "\u001b[1m18/18\u001b[0m \u001b[32m━━━━━━━━━━━━━━━━━━━━\u001b[0m\u001b[37m\u001b[0m \u001b[1m43s\u001b[0m 2s/step - accuracy: 0.8290 - loss: 0.4321 - val_accuracy: 0.8616 - val_loss: 0.3838 - learning_rate: 7.0000e-05\n",
            "Epoch 4/30\n",
            "\u001b[1m18/18\u001b[0m \u001b[32m━━━━━━━━━━━━━━━━━━━━\u001b[0m\u001b[37m\u001b[0m \u001b[1m42s\u001b[0m 2s/step - accuracy: 0.8112 - loss: 0.4222 - val_accuracy: 0.8994 - val_loss: 0.3318 - learning_rate: 7.0000e-05\n",
            "Epoch 5/30\n",
            "\u001b[1m18/18\u001b[0m \u001b[32m━━━━━━━━━━━━━━━━━━━━\u001b[0m\u001b[37m\u001b[0m \u001b[1m43s\u001b[0m 2s/step - accuracy: 0.8654 - loss: 0.3420 - val_accuracy: 0.9182 - val_loss: 0.2949 - learning_rate: 7.0000e-05\n",
            "Epoch 6/30\n",
            "\u001b[1m18/18\u001b[0m \u001b[32m━━━━━━━━━━━━━━━━━━━━\u001b[0m\u001b[37m\u001b[0m \u001b[1m41s\u001b[0m 2s/step - accuracy: 0.8548 - loss: 0.3350 - val_accuracy: 0.9245 - val_loss: 0.2687 - learning_rate: 7.0000e-05\n",
            "Epoch 7/30\n",
            "\u001b[1m18/18\u001b[0m \u001b[32m━━━━━━━━━━━━━━━━━━━━\u001b[0m\u001b[37m\u001b[0m \u001b[1m43s\u001b[0m 2s/step - accuracy: 0.8848 - loss: 0.3084 - val_accuracy: 0.9371 - val_loss: 0.2461 - learning_rate: 7.0000e-05\n",
            "Epoch 8/30\n",
            "\u001b[1m18/18\u001b[0m \u001b[32m━━━━━━━━━━━━━━━━━━━━\u001b[0m\u001b[37m\u001b[0m \u001b[1m42s\u001b[0m 2s/step - accuracy: 0.9144 - loss: 0.2622 - val_accuracy: 0.9497 - val_loss: 0.2296 - learning_rate: 7.0000e-05\n",
            "Epoch 9/30\n",
            "\u001b[1m18/18\u001b[0m \u001b[32m━━━━━━━━━━━━━━━━━━━━\u001b[0m\u001b[37m\u001b[0m \u001b[1m83s\u001b[0m 2s/step - accuracy: 0.8934 - loss: 0.2611 - val_accuracy: 0.9497 - val_loss: 0.2162 - learning_rate: 7.0000e-05\n",
            "Epoch 10/30\n",
            "\u001b[1m18/18\u001b[0m \u001b[32m━━━━━━━━━━━━━━━━━━━━\u001b[0m\u001b[37m\u001b[0m \u001b[1m41s\u001b[0m 2s/step - accuracy: 0.9137 - loss: 0.2422 - val_accuracy: 0.9497 - val_loss: 0.1988 - learning_rate: 7.0000e-05\n",
            "Epoch 11/30\n",
            "\u001b[1m18/18\u001b[0m \u001b[32m━━━━━━━━━━━━━━━━━━━━\u001b[0m\u001b[37m\u001b[0m \u001b[1m82s\u001b[0m 2s/step - accuracy: 0.8960 - loss: 0.2600 - val_accuracy: 0.9497 - val_loss: 0.1909 - learning_rate: 7.0000e-05\n",
            "Epoch 12/30\n",
            "\u001b[1m18/18\u001b[0m \u001b[32m━━━━━━━━━━━━━━━━━━━━\u001b[0m\u001b[37m\u001b[0m \u001b[1m41s\u001b[0m 2s/step - accuracy: 0.9195 - loss: 0.2382 - val_accuracy: 0.9497 - val_loss: 0.1871 - learning_rate: 7.0000e-05\n",
            "Epoch 13/30\n",
            "\u001b[1m18/18\u001b[0m \u001b[32m━━━━━━━━━━━━━━━━━━━━\u001b[0m\u001b[37m\u001b[0m \u001b[1m43s\u001b[0m 2s/step - accuracy: 0.9410 - loss: 0.1895 - val_accuracy: 0.9497 - val_loss: 0.1782 - learning_rate: 7.0000e-05\n",
            "Epoch 14/30\n",
            "\u001b[1m18/18\u001b[0m \u001b[32m━━━━━━━━━━━━━━━━━━━━\u001b[0m\u001b[37m\u001b[0m \u001b[1m42s\u001b[0m 2s/step - accuracy: 0.9367 - loss: 0.1926 - val_accuracy: 0.9497 - val_loss: 0.1684 - learning_rate: 7.0000e-05\n",
            "Epoch 15/30\n",
            "\u001b[1m18/18\u001b[0m \u001b[32m━━━━━━━━━━━━━━━━━━━━\u001b[0m\u001b[37m\u001b[0m \u001b[1m43s\u001b[0m 2s/step - accuracy: 0.9313 - loss: 0.1944 - val_accuracy: 0.9497 - val_loss: 0.1669 - learning_rate: 7.0000e-05\n",
            "Epoch 16/30\n",
            "\u001b[1m18/18\u001b[0m \u001b[32m━━━━━━━━━━━━━━━━━━━━\u001b[0m\u001b[37m\u001b[0m \u001b[1m42s\u001b[0m 2s/step - accuracy: 0.9378 - loss: 0.1801 - val_accuracy: 0.9497 - val_loss: 0.1625 - learning_rate: 7.0000e-05\n",
            "Epoch 17/30\n",
            "\u001b[1m18/18\u001b[0m \u001b[32m━━━━━━━━━━━━━━━━━━━━\u001b[0m\u001b[37m\u001b[0m \u001b[1m40s\u001b[0m 2s/step - accuracy: 0.9552 - loss: 0.1858 - val_accuracy: 0.9497 - val_loss: 0.1564 - learning_rate: 7.0000e-05\n",
            "Epoch 18/30\n",
            "\u001b[1m18/18\u001b[0m \u001b[32m━━━━━━━━━━━━━━━━━━━━\u001b[0m\u001b[37m\u001b[0m \u001b[1m44s\u001b[0m 2s/step - accuracy: 0.9217 - loss: 0.1906 - val_accuracy: 0.9497 - val_loss: 0.1601 - learning_rate: 7.0000e-05\n",
            "Epoch 19/30\n",
            "\u001b[1m18/18\u001b[0m \u001b[32m━━━━━━━━━━━━━━━━━━━━\u001b[0m\u001b[37m\u001b[0m \u001b[1m43s\u001b[0m 2s/step - accuracy: 0.9436 - loss: 0.1567 - val_accuracy: 0.9497 - val_loss: 0.1567 - learning_rate: 7.0000e-05\n",
            "Epoch 20/30\n",
            "\u001b[1m18/18\u001b[0m \u001b[32m━━━━━━━━━━━━━━━━━━━━\u001b[0m\u001b[37m\u001b[0m \u001b[1m42s\u001b[0m 2s/step - accuracy: 0.9304 - loss: 0.1751 - val_accuracy: 0.9497 - val_loss: 0.1449 - learning_rate: 7.0000e-05\n",
            "Epoch 21/30\n",
            "\u001b[1m18/18\u001b[0m \u001b[32m━━━━━━━━━━━━━━━━━━━━\u001b[0m\u001b[37m\u001b[0m \u001b[1m43s\u001b[0m 2s/step - accuracy: 0.9468 - loss: 0.1678 - val_accuracy: 0.9497 - val_loss: 0.1467 - learning_rate: 7.0000e-05\n",
            "Epoch 22/30\n",
            "\u001b[1m18/18\u001b[0m \u001b[32m━━━━━━━━━━━━━━━━━━━━\u001b[0m\u001b[37m\u001b[0m \u001b[1m43s\u001b[0m 2s/step - accuracy: 0.9534 - loss: 0.1616 - val_accuracy: 0.9497 - val_loss: 0.1462 - learning_rate: 7.0000e-05\n",
            "Epoch 23/30\n",
            "\u001b[1m18/18\u001b[0m \u001b[32m━━━━━━━━━━━━━━━━━━━━\u001b[0m\u001b[37m\u001b[0m \u001b[1m44s\u001b[0m 2s/step - accuracy: 0.9503 - loss: 0.1398 - val_accuracy: 0.9434 - val_loss: 0.1469 - learning_rate: 7.0000e-05\n",
            "Epoch 24/30\n",
            "\u001b[1m18/18\u001b[0m \u001b[32m━━━━━━━━━━━━━━━━━━━━\u001b[0m\u001b[37m\u001b[0m \u001b[1m42s\u001b[0m 2s/step - accuracy: 0.9659 - loss: 0.1189 - val_accuracy: 0.9497 - val_loss: 0.1426 - learning_rate: 3.5000e-05\n",
            "Epoch 25/30\n",
            "\u001b[1m18/18\u001b[0m \u001b[32m━━━━━━━━━━━━━━━━━━━━\u001b[0m\u001b[37m\u001b[0m \u001b[1m43s\u001b[0m 2s/step - accuracy: 0.9552 - loss: 0.1281 - val_accuracy: 0.9560 - val_loss: 0.1416 - learning_rate: 3.5000e-05\n",
            "Epoch 26/30\n",
            "\u001b[1m18/18\u001b[0m \u001b[32m━━━━━━━━━━━━━━━━━━━━\u001b[0m\u001b[37m\u001b[0m \u001b[1m43s\u001b[0m 2s/step - accuracy: 0.9505 - loss: 0.1244 - val_accuracy: 0.9560 - val_loss: 0.1378 - learning_rate: 3.5000e-05\n",
            "Epoch 27/30\n",
            "\u001b[1m18/18\u001b[0m \u001b[32m━━━━━━━━━━━━━━━━━━━━\u001b[0m\u001b[37m\u001b[0m \u001b[1m41s\u001b[0m 2s/step - accuracy: 0.9390 - loss: 0.1545 - val_accuracy: 0.9497 - val_loss: 0.1405 - learning_rate: 3.5000e-05\n",
            "Epoch 28/30\n",
            "\u001b[1m18/18\u001b[0m \u001b[32m━━━━━━━━━━━━━━━━━━━━\u001b[0m\u001b[37m\u001b[0m \u001b[1m44s\u001b[0m 2s/step - accuracy: 0.9435 - loss: 0.1442 - val_accuracy: 0.9434 - val_loss: 0.1405 - learning_rate: 3.5000e-05\n",
            "Epoch 29/30\n",
            "\u001b[1m18/18\u001b[0m \u001b[32m━━━━━━━━━━━━━━━━━━━━\u001b[0m\u001b[37m\u001b[0m \u001b[1m42s\u001b[0m 2s/step - accuracy: 0.9301 - loss: 0.1516 - val_accuracy: 0.9560 - val_loss: 0.1316 - learning_rate: 3.5000e-05\n",
            "Epoch 30/30\n",
            "\u001b[1m18/18\u001b[0m \u001b[32m━━━━━━━━━━━━━━━━━━━━\u001b[0m\u001b[37m\u001b[0m \u001b[1m43s\u001b[0m 2s/step - accuracy: 0.9553 - loss: 0.1271 - val_accuracy: 0.9497 - val_loss: 0.1418 - learning_rate: 3.5000e-05\n",
            "\u001b[1m3/3\u001b[0m \u001b[32m━━━━━━━━━━━━━━━━━━━━\u001b[0m\u001b[37m\u001b[0m \u001b[1m3s\u001b[0m 869ms/step - accuracy: 0.9821 - loss: 0.0847\n",
            "Test accuracy for iteration 5: 0.99\n",
            "\u001b[1m3/3\u001b[0m \u001b[32m━━━━━━━━━━━━━━━━━━━━\u001b[0m\u001b[37m\u001b[0m \u001b[1m7s\u001b[0m 2s/step\n",
            "Deleted folder: /content/drive/My Drive/final_project/ver1_output\n",
            "Running iteration 6/10 with seed 5\n"
          ]
        },
        {
          "metadata": {
            "tags": null
          },
          "name": "stderr",
          "output_type": "stream",
          "text": [
            "Copying files: 802 files [00:16, 47.85 files/s]\n"
          ]
        },
        {
          "output_type": "stream",
          "name": "stdout",
          "text": [
            "Found 559 images belonging to 2 classes.\n",
            "Found 160 images belonging to 2 classes.\n",
            "Found 81 images belonging to 2 classes.\n"
          ]
        },
        {
          "output_type": "stream",
          "name": "stderr",
          "text": [
            "/usr/local/lib/python3.11/dist-packages/keras/src/trainers/data_adapters/py_dataset_adapter.py:121: UserWarning: Your `PyDataset` class should call `super().__init__(**kwargs)` in its constructor. `**kwargs` can include `workers`, `use_multiprocessing`, `max_queue_size`. Do not pass these arguments to `fit()`, as they will be ignored.\n",
            "  self._warn_if_super_not_called()\n"
          ]
        },
        {
          "output_type": "stream",
          "name": "stdout",
          "text": [
            "Epoch 1/30\n",
            "\u001b[1m18/18\u001b[0m \u001b[32m━━━━━━━━━━━━━━━━━━━━\u001b[0m\u001b[37m\u001b[0m \u001b[1m49s\u001b[0m 2s/step - accuracy: 0.5308 - loss: 0.7221 - val_accuracy: 0.7312 - val_loss: 0.5548 - learning_rate: 7.0000e-05\n",
            "Epoch 2/30\n",
            "\u001b[1m18/18\u001b[0m \u001b[32m━━━━━━━━━━━━━━━━━━━━\u001b[0m\u001b[37m\u001b[0m \u001b[1m79s\u001b[0m 2s/step - accuracy: 0.7772 - loss: 0.5107 - val_accuracy: 0.8438 - val_loss: 0.4277 - learning_rate: 7.0000e-05\n",
            "Epoch 3/30\n",
            "\u001b[1m18/18\u001b[0m \u001b[32m━━━━━━━━━━━━━━━━━━━━\u001b[0m\u001b[37m\u001b[0m \u001b[1m40s\u001b[0m 2s/step - accuracy: 0.8240 - loss: 0.4251 - val_accuracy: 0.8813 - val_loss: 0.3427 - learning_rate: 7.0000e-05\n",
            "Epoch 4/30\n",
            "\u001b[1m18/18\u001b[0m \u001b[32m━━━━━━━━━━━━━━━━━━━━\u001b[0m\u001b[37m\u001b[0m \u001b[1m42s\u001b[0m 2s/step - accuracy: 0.8552 - loss: 0.3834 - val_accuracy: 0.9125 - val_loss: 0.2900 - learning_rate: 7.0000e-05\n",
            "Epoch 5/30\n",
            "\u001b[1m18/18\u001b[0m \u001b[32m━━━━━━━━━━━━━━━━━━━━\u001b[0m\u001b[37m\u001b[0m \u001b[1m40s\u001b[0m 2s/step - accuracy: 0.8527 - loss: 0.3364 - val_accuracy: 0.9312 - val_loss: 0.2535 - learning_rate: 7.0000e-05\n",
            "Epoch 6/30\n",
            "\u001b[1m18/18\u001b[0m \u001b[32m━━━━━━━━━━━━━━━━━━━━\u001b[0m\u001b[37m\u001b[0m \u001b[1m40s\u001b[0m 2s/step - accuracy: 0.9096 - loss: 0.2765 - val_accuracy: 0.9563 - val_loss: 0.2237 - learning_rate: 7.0000e-05\n",
            "Epoch 7/30\n",
            "\u001b[1m18/18\u001b[0m \u001b[32m━━━━━━━━━━━━━━━━━━━━\u001b[0m\u001b[37m\u001b[0m \u001b[1m43s\u001b[0m 2s/step - accuracy: 0.8782 - loss: 0.2963 - val_accuracy: 0.9563 - val_loss: 0.2022 - learning_rate: 7.0000e-05\n",
            "Epoch 8/30\n",
            "\u001b[1m18/18\u001b[0m \u001b[32m━━━━━━━━━━━━━━━━━━━━\u001b[0m\u001b[37m\u001b[0m \u001b[1m42s\u001b[0m 2s/step - accuracy: 0.8836 - loss: 0.2641 - val_accuracy: 0.9563 - val_loss: 0.1869 - learning_rate: 7.0000e-05\n",
            "Epoch 9/30\n",
            "\u001b[1m18/18\u001b[0m \u001b[32m━━━━━━━━━━━━━━━━━━━━\u001b[0m\u001b[37m\u001b[0m \u001b[1m40s\u001b[0m 2s/step - accuracy: 0.9223 - loss: 0.2110 - val_accuracy: 0.9625 - val_loss: 0.1731 - learning_rate: 7.0000e-05\n",
            "Epoch 10/30\n",
            "\u001b[1m18/18\u001b[0m \u001b[32m━━━━━━━━━━━━━━━━━━━━\u001b[0m\u001b[37m\u001b[0m \u001b[1m42s\u001b[0m 2s/step - accuracy: 0.9219 - loss: 0.2288 - val_accuracy: 0.9688 - val_loss: 0.1608 - learning_rate: 7.0000e-05\n",
            "Epoch 11/30\n",
            "\u001b[1m18/18\u001b[0m \u001b[32m━━━━━━━━━━━━━━━━━━━━\u001b[0m\u001b[37m\u001b[0m \u001b[1m42s\u001b[0m 2s/step - accuracy: 0.9407 - loss: 0.2075 - val_accuracy: 0.9625 - val_loss: 0.1530 - learning_rate: 7.0000e-05\n",
            "Epoch 12/30\n",
            "\u001b[1m18/18\u001b[0m \u001b[32m━━━━━━━━━━━━━━━━━━━━\u001b[0m\u001b[37m\u001b[0m \u001b[1m40s\u001b[0m 2s/step - accuracy: 0.9363 - loss: 0.1882 - val_accuracy: 0.9625 - val_loss: 0.1466 - learning_rate: 7.0000e-05\n",
            "Epoch 13/30\n",
            "\u001b[1m18/18\u001b[0m \u001b[32m━━━━━━━━━━━━━━━━━━━━\u001b[0m\u001b[37m\u001b[0m \u001b[1m40s\u001b[0m 2s/step - accuracy: 0.9403 - loss: 0.1814 - val_accuracy: 0.9625 - val_loss: 0.1363 - learning_rate: 7.0000e-05\n",
            "Epoch 14/30\n",
            "\u001b[1m18/18\u001b[0m \u001b[32m━━━━━━━━━━━━━━━━━━━━\u001b[0m\u001b[37m\u001b[0m \u001b[1m44s\u001b[0m 2s/step - accuracy: 0.9379 - loss: 0.1858 - val_accuracy: 0.9625 - val_loss: 0.1320 - learning_rate: 7.0000e-05\n",
            "Epoch 15/30\n",
            "\u001b[1m18/18\u001b[0m \u001b[32m━━━━━━━━━━━━━━━━━━━━\u001b[0m\u001b[37m\u001b[0m \u001b[1m41s\u001b[0m 2s/step - accuracy: 0.9389 - loss: 0.1679 - val_accuracy: 0.9625 - val_loss: 0.1256 - learning_rate: 7.0000e-05\n",
            "Epoch 16/30\n",
            "\u001b[1m18/18\u001b[0m \u001b[32m━━━━━━━━━━━━━━━━━━━━\u001b[0m\u001b[37m\u001b[0m \u001b[1m42s\u001b[0m 2s/step - accuracy: 0.9409 - loss: 0.1524 - val_accuracy: 0.9625 - val_loss: 0.1212 - learning_rate: 7.0000e-05\n",
            "Epoch 17/30\n",
            "\u001b[1m18/18\u001b[0m \u001b[32m━━━━━━━━━━━━━━━━━━━━\u001b[0m\u001b[37m\u001b[0m \u001b[1m41s\u001b[0m 2s/step - accuracy: 0.9588 - loss: 0.1587 - val_accuracy: 0.9625 - val_loss: 0.1186 - learning_rate: 7.0000e-05\n",
            "Epoch 18/30\n",
            "\u001b[1m18/18\u001b[0m \u001b[32m━━━━━━━━━━━━━━━━━━━━\u001b[0m\u001b[37m\u001b[0m \u001b[1m82s\u001b[0m 2s/step - accuracy: 0.9659 - loss: 0.1490 - val_accuracy: 0.9625 - val_loss: 0.1146 - learning_rate: 7.0000e-05\n",
            "Epoch 19/30\n",
            "\u001b[1m18/18\u001b[0m \u001b[32m━━━━━━━━━━━━━━━━━━━━\u001b[0m\u001b[37m\u001b[0m \u001b[1m41s\u001b[0m 2s/step - accuracy: 0.9576 - loss: 0.1370 - val_accuracy: 0.9688 - val_loss: 0.1134 - learning_rate: 7.0000e-05\n",
            "Epoch 20/30\n",
            "\u001b[1m18/18\u001b[0m \u001b[32m━━━━━━━━━━━━━━━━━━━━\u001b[0m\u001b[37m\u001b[0m \u001b[1m41s\u001b[0m 2s/step - accuracy: 0.9624 - loss: 0.1344 - val_accuracy: 0.9688 - val_loss: 0.1071 - learning_rate: 7.0000e-05\n",
            "Epoch 21/30\n",
            "\u001b[1m18/18\u001b[0m \u001b[32m━━━━━━━━━━━━━━━━━━━━\u001b[0m\u001b[37m\u001b[0m \u001b[1m43s\u001b[0m 2s/step - accuracy: 0.9500 - loss: 0.1482 - val_accuracy: 0.9688 - val_loss: 0.1090 - learning_rate: 7.0000e-05\n",
            "Epoch 22/30\n",
            "\u001b[1m18/18\u001b[0m \u001b[32m━━━━━━━━━━━━━━━━━━━━\u001b[0m\u001b[37m\u001b[0m \u001b[1m41s\u001b[0m 2s/step - accuracy: 0.9557 - loss: 0.1464 - val_accuracy: 0.9688 - val_loss: 0.1030 - learning_rate: 7.0000e-05\n",
            "Epoch 23/30\n",
            "\u001b[1m18/18\u001b[0m \u001b[32m━━━━━━━━━━━━━━━━━━━━\u001b[0m\u001b[37m\u001b[0m \u001b[1m42s\u001b[0m 2s/step - accuracy: 0.9400 - loss: 0.1268 - val_accuracy: 0.9688 - val_loss: 0.1043 - learning_rate: 7.0000e-05\n",
            "Epoch 24/30\n",
            "\u001b[1m18/18\u001b[0m \u001b[32m━━━━━━━━━━━━━━━━━━━━\u001b[0m\u001b[37m\u001b[0m \u001b[1m41s\u001b[0m 2s/step - accuracy: 0.9413 - loss: 0.1489 - val_accuracy: 0.9750 - val_loss: 0.0985 - learning_rate: 7.0000e-05\n",
            "Epoch 25/30\n",
            "\u001b[1m18/18\u001b[0m \u001b[32m━━━━━━━━━━━━━━━━━━━━\u001b[0m\u001b[37m\u001b[0m \u001b[1m82s\u001b[0m 2s/step - accuracy: 0.9544 - loss: 0.1320 - val_accuracy: 0.9750 - val_loss: 0.1003 - learning_rate: 7.0000e-05\n",
            "Epoch 26/30\n",
            "\u001b[1m18/18\u001b[0m \u001b[32m━━━━━━━━━━━━━━━━━━━━\u001b[0m\u001b[37m\u001b[0m \u001b[1m41s\u001b[0m 2s/step - accuracy: 0.9591 - loss: 0.1143 - val_accuracy: 0.9812 - val_loss: 0.0942 - learning_rate: 7.0000e-05\n",
            "Epoch 27/30\n",
            "\u001b[1m18/18\u001b[0m \u001b[32m━━━━━━━━━━━━━━━━━━━━\u001b[0m\u001b[37m\u001b[0m \u001b[1m41s\u001b[0m 2s/step - accuracy: 0.9633 - loss: 0.1242 - val_accuracy: 0.9688 - val_loss: 0.1015 - learning_rate: 7.0000e-05\n",
            "Epoch 28/30\n",
            "\u001b[1m18/18\u001b[0m \u001b[32m━━━━━━━━━━━━━━━━━━━━\u001b[0m\u001b[37m\u001b[0m \u001b[1m40s\u001b[0m 2s/step - accuracy: 0.9620 - loss: 0.1269 - val_accuracy: 0.9688 - val_loss: 0.0915 - learning_rate: 7.0000e-05\n",
            "Epoch 29/30\n",
            "\u001b[1m18/18\u001b[0m \u001b[32m━━━━━━━━━━━━━━━━━━━━\u001b[0m\u001b[37m\u001b[0m \u001b[1m38s\u001b[0m 2s/step - accuracy: 0.9453 - loss: 0.1622 - val_accuracy: 0.9625 - val_loss: 0.0944 - learning_rate: 7.0000e-05\n",
            "Epoch 30/30\n",
            "\u001b[1m18/18\u001b[0m \u001b[32m━━━━━━━━━━━━━━━━━━━━\u001b[0m\u001b[37m\u001b[0m \u001b[1m44s\u001b[0m 2s/step - accuracy: 0.9397 - loss: 0.1318 - val_accuracy: 0.9750 - val_loss: 0.1061 - learning_rate: 7.0000e-05\n",
            "\u001b[1m3/3\u001b[0m \u001b[32m━━━━━━━━━━━━━━━━━━━━\u001b[0m\u001b[37m\u001b[0m \u001b[1m4s\u001b[0m 935ms/step - accuracy: 0.9821 - loss: 0.0976\n",
            "Test accuracy for iteration 6: 0.99\n",
            "\u001b[1m3/3\u001b[0m \u001b[32m━━━━━━━━━━━━━━━━━━━━\u001b[0m\u001b[37m\u001b[0m \u001b[1m7s\u001b[0m 2s/step\n",
            "Deleted folder: /content/drive/My Drive/final_project/ver1_output\n",
            "Running iteration 7/10 with seed 6\n"
          ]
        },
        {
          "output_type": "stream",
          "name": "stderr",
          "text": [
            "Copying files: 802 files [00:17, 46.55 files/s]\n"
          ]
        },
        {
          "output_type": "stream",
          "name": "stdout",
          "text": [
            "Found 560 images belonging to 2 classes.\n",
            "Found 160 images belonging to 2 classes.\n",
            "Found 80 images belonging to 2 classes.\n"
          ]
        },
        {
          "output_type": "stream",
          "name": "stderr",
          "text": [
            "/usr/local/lib/python3.11/dist-packages/keras/src/trainers/data_adapters/py_dataset_adapter.py:121: UserWarning: Your `PyDataset` class should call `super().__init__(**kwargs)` in its constructor. `**kwargs` can include `workers`, `use_multiprocessing`, `max_queue_size`. Do not pass these arguments to `fit()`, as they will be ignored.\n",
            "  self._warn_if_super_not_called()\n"
          ]
        },
        {
          "output_type": "stream",
          "name": "stdout",
          "text": [
            "Epoch 1/30\n",
            "\u001b[1m18/18\u001b[0m \u001b[32m━━━━━━━━━━━━━━━━━━━━\u001b[0m\u001b[37m\u001b[0m \u001b[1m47s\u001b[0m 2s/step - accuracy: 0.5509 - loss: 0.7285 - val_accuracy: 0.7500 - val_loss: 0.5791 - learning_rate: 7.0000e-05\n",
            "Epoch 2/30\n",
            "\u001b[1m18/18\u001b[0m \u001b[32m━━━━━━━━━━━━━━━━━━━━\u001b[0m\u001b[37m\u001b[0m \u001b[1m40s\u001b[0m 2s/step - accuracy: 0.7761 - loss: 0.4825 - val_accuracy: 0.8125 - val_loss: 0.4863 - learning_rate: 7.0000e-05\n",
            "Epoch 3/30\n",
            "\u001b[1m18/18\u001b[0m \u001b[32m━━━━━━━━━━━━━━━━━━━━\u001b[0m\u001b[37m\u001b[0m \u001b[1m41s\u001b[0m 2s/step - accuracy: 0.8114 - loss: 0.4383 - val_accuracy: 0.8438 - val_loss: 0.4177 - learning_rate: 7.0000e-05\n",
            "Epoch 4/30\n",
            "\u001b[1m18/18\u001b[0m \u001b[32m━━━━━━━━━━━━━━━━━━━━\u001b[0m\u001b[37m\u001b[0m \u001b[1m40s\u001b[0m 2s/step - accuracy: 0.8731 - loss: 0.3676 - val_accuracy: 0.8438 - val_loss: 0.3816 - learning_rate: 7.0000e-05\n",
            "Epoch 5/30\n",
            "\u001b[1m18/18\u001b[0m \u001b[32m━━━━━━━━━━━━━━━━━━━━\u001b[0m\u001b[37m\u001b[0m \u001b[1m42s\u001b[0m 2s/step - accuracy: 0.8573 - loss: 0.3430 - val_accuracy: 0.8625 - val_loss: 0.3507 - learning_rate: 7.0000e-05\n",
            "Epoch 6/30\n",
            "\u001b[1m18/18\u001b[0m \u001b[32m━━━━━━━━━━━━━━━━━━━━\u001b[0m\u001b[37m\u001b[0m \u001b[1m42s\u001b[0m 2s/step - accuracy: 0.8837 - loss: 0.2973 - val_accuracy: 0.8875 - val_loss: 0.3105 - learning_rate: 7.0000e-05\n",
            "Epoch 7/30\n",
            "\u001b[1m18/18\u001b[0m \u001b[32m━━━━━━━━━━━━━━━━━━━━\u001b[0m\u001b[37m\u001b[0m \u001b[1m43s\u001b[0m 2s/step - accuracy: 0.8932 - loss: 0.2729 - val_accuracy: 0.8875 - val_loss: 0.2945 - learning_rate: 7.0000e-05\n",
            "Epoch 8/30\n",
            "\u001b[1m18/18\u001b[0m \u001b[32m━━━━━━━━━━━━━━━━━━━━\u001b[0m\u001b[37m\u001b[0m \u001b[1m40s\u001b[0m 2s/step - accuracy: 0.9152 - loss: 0.2324 - val_accuracy: 0.9000 - val_loss: 0.2729 - learning_rate: 7.0000e-05\n",
            "Epoch 9/30\n",
            "\u001b[1m18/18\u001b[0m \u001b[32m━━━━━━━━━━━━━━━━━━━━\u001b[0m\u001b[37m\u001b[0m \u001b[1m43s\u001b[0m 2s/step - accuracy: 0.9154 - loss: 0.2166 - val_accuracy: 0.9125 - val_loss: 0.2487 - learning_rate: 7.0000e-05\n",
            "Epoch 10/30\n",
            "\u001b[1m18/18\u001b[0m \u001b[32m━━━━━━━━━━━━━━━━━━━━\u001b[0m\u001b[37m\u001b[0m \u001b[1m40s\u001b[0m 2s/step - accuracy: 0.9136 - loss: 0.2272 - val_accuracy: 0.9125 - val_loss: 0.2428 - learning_rate: 7.0000e-05\n",
            "Epoch 11/30\n",
            "\u001b[1m18/18\u001b[0m \u001b[32m━━━━━━━━━━━━━━━━━━━━\u001b[0m\u001b[37m\u001b[0m \u001b[1m38s\u001b[0m 2s/step - accuracy: 0.9364 - loss: 0.1916 - val_accuracy: 0.9187 - val_loss: 0.2321 - learning_rate: 7.0000e-05\n",
            "Epoch 12/30\n",
            "\u001b[1m18/18\u001b[0m \u001b[32m━━━━━━━━━━━━━━━━━━━━\u001b[0m\u001b[37m\u001b[0m \u001b[1m39s\u001b[0m 2s/step - accuracy: 0.9298 - loss: 0.1915 - val_accuracy: 0.9250 - val_loss: 0.2218 - learning_rate: 7.0000e-05\n",
            "Epoch 13/30\n",
            "\u001b[1m18/18\u001b[0m \u001b[32m━━━━━━━━━━━━━━━━━━━━\u001b[0m\u001b[37m\u001b[0m \u001b[1m41s\u001b[0m 2s/step - accuracy: 0.9222 - loss: 0.1869 - val_accuracy: 0.9312 - val_loss: 0.2164 - learning_rate: 7.0000e-05\n",
            "Epoch 14/30\n",
            "\u001b[1m18/18\u001b[0m \u001b[32m━━━━━━━━━━━━━━━━━━━━\u001b[0m\u001b[37m\u001b[0m \u001b[1m39s\u001b[0m 2s/step - accuracy: 0.9290 - loss: 0.1871 - val_accuracy: 0.9312 - val_loss: 0.2041 - learning_rate: 7.0000e-05\n",
            "Epoch 15/30\n",
            "\u001b[1m18/18\u001b[0m \u001b[32m━━━━━━━━━━━━━━━━━━━━\u001b[0m\u001b[37m\u001b[0m \u001b[1m40s\u001b[0m 2s/step - accuracy: 0.9409 - loss: 0.1884 - val_accuracy: 0.9438 - val_loss: 0.2054 - learning_rate: 7.0000e-05\n",
            "Epoch 16/30\n",
            "\u001b[1m18/18\u001b[0m \u001b[32m━━━━━━━━━━━━━━━━━━━━\u001b[0m\u001b[37m\u001b[0m \u001b[1m42s\u001b[0m 2s/step - accuracy: 0.9504 - loss: 0.1467 - val_accuracy: 0.9500 - val_loss: 0.1972 - learning_rate: 7.0000e-05\n",
            "Epoch 17/30\n",
            "\u001b[1m18/18\u001b[0m \u001b[32m━━━━━━━━━━━━━━━━━━━━\u001b[0m\u001b[37m\u001b[0m \u001b[1m42s\u001b[0m 2s/step - accuracy: 0.9608 - loss: 0.1480 - val_accuracy: 0.9438 - val_loss: 0.1935 - learning_rate: 7.0000e-05\n",
            "Epoch 18/30\n",
            "\u001b[1m18/18\u001b[0m \u001b[32m━━━━━━━━━━━━━━━━━━━━\u001b[0m\u001b[37m\u001b[0m \u001b[1m82s\u001b[0m 2s/step - accuracy: 0.9595 - loss: 0.1484 - val_accuracy: 0.9625 - val_loss: 0.1828 - learning_rate: 7.0000e-05\n",
            "Epoch 19/30\n",
            "\u001b[1m18/18\u001b[0m \u001b[32m━━━━━━━━━━━━━━━━━━━━\u001b[0m\u001b[37m\u001b[0m \u001b[1m85s\u001b[0m 2s/step - accuracy: 0.9431 - loss: 0.1501 - val_accuracy: 0.9438 - val_loss: 0.1909 - learning_rate: 7.0000e-05\n",
            "Epoch 20/30\n",
            "\u001b[1m18/18\u001b[0m \u001b[32m━━━━━━━━━━━━━━━━━━━━\u001b[0m\u001b[37m\u001b[0m \u001b[1m38s\u001b[0m 2s/step - accuracy: 0.9476 - loss: 0.1478 - val_accuracy: 0.9500 - val_loss: 0.1772 - learning_rate: 7.0000e-05\n",
            "Epoch 21/30\n",
            "\u001b[1m18/18\u001b[0m \u001b[32m━━━━━━━━━━━━━━━━━━━━\u001b[0m\u001b[37m\u001b[0m \u001b[1m40s\u001b[0m 2s/step - accuracy: 0.9568 - loss: 0.1198 - val_accuracy: 0.9500 - val_loss: 0.1802 - learning_rate: 7.0000e-05\n",
            "Epoch 22/30\n",
            "\u001b[1m18/18\u001b[0m \u001b[32m━━━━━━━━━━━━━━━━━━━━\u001b[0m\u001b[37m\u001b[0m \u001b[1m41s\u001b[0m 2s/step - accuracy: 0.9575 - loss: 0.1238 - val_accuracy: 0.9625 - val_loss: 0.1703 - learning_rate: 7.0000e-05\n",
            "Epoch 23/30\n",
            "\u001b[1m18/18\u001b[0m \u001b[32m━━━━━━━━━━━━━━━━━━━━\u001b[0m\u001b[37m\u001b[0m \u001b[1m41s\u001b[0m 2s/step - accuracy: 0.9598 - loss: 0.1207 - val_accuracy: 0.9563 - val_loss: 0.1688 - learning_rate: 7.0000e-05\n",
            "Epoch 24/30\n",
            "\u001b[1m18/18\u001b[0m \u001b[32m━━━━━━━━━━━━━━━━━━━━\u001b[0m\u001b[37m\u001b[0m \u001b[1m42s\u001b[0m 2s/step - accuracy: 0.9393 - loss: 0.1453 - val_accuracy: 0.9563 - val_loss: 0.1705 - learning_rate: 7.0000e-05\n",
            "Epoch 25/30\n",
            "\u001b[1m18/18\u001b[0m \u001b[32m━━━━━━━━━━━━━━━━━━━━\u001b[0m\u001b[37m\u001b[0m \u001b[1m40s\u001b[0m 2s/step - accuracy: 0.9645 - loss: 0.1222 - val_accuracy: 0.9563 - val_loss: 0.1668 - learning_rate: 7.0000e-05\n",
            "Epoch 26/30\n",
            "\u001b[1m18/18\u001b[0m \u001b[32m━━━━━━━━━━━━━━━━━━━━\u001b[0m\u001b[37m\u001b[0m \u001b[1m41s\u001b[0m 2s/step - accuracy: 0.9632 - loss: 0.1235 - val_accuracy: 0.9563 - val_loss: 0.1615 - learning_rate: 7.0000e-05\n",
            "Epoch 27/30\n",
            "\u001b[1m18/18\u001b[0m \u001b[32m━━━━━━━━━━━━━━━━━━━━\u001b[0m\u001b[37m\u001b[0m \u001b[1m42s\u001b[0m 2s/step - accuracy: 0.9802 - loss: 0.1006 - val_accuracy: 0.9625 - val_loss: 0.1680 - learning_rate: 7.0000e-05\n",
            "Epoch 28/30\n",
            "\u001b[1m18/18\u001b[0m \u001b[32m━━━━━━━━━━━━━━━━━━━━\u001b[0m\u001b[37m\u001b[0m \u001b[1m80s\u001b[0m 2s/step - accuracy: 0.9617 - loss: 0.1108 - val_accuracy: 0.9563 - val_loss: 0.1560 - learning_rate: 7.0000e-05\n",
            "Epoch 29/30\n",
            "\u001b[1m18/18\u001b[0m \u001b[32m━━━━━━━━━━━━━━━━━━━━\u001b[0m\u001b[37m\u001b[0m \u001b[1m40s\u001b[0m 2s/step - accuracy: 0.9615 - loss: 0.1165 - val_accuracy: 0.9500 - val_loss: 0.1589 - learning_rate: 7.0000e-05\n",
            "Epoch 30/30\n",
            "\u001b[1m18/18\u001b[0m \u001b[32m━━━━━━━━━━━━━━━━━━━━\u001b[0m\u001b[37m\u001b[0m \u001b[1m39s\u001b[0m 2s/step - accuracy: 0.9802 - loss: 0.0919 - val_accuracy: 0.9563 - val_loss: 0.1562 - learning_rate: 7.0000e-05\n",
            "\u001b[1m3/3\u001b[0m \u001b[32m━━━━━━━━━━━━━━━━━━━━\u001b[0m\u001b[37m\u001b[0m \u001b[1m3s\u001b[0m 815ms/step - accuracy: 0.9937 - loss: 0.0826\n",
            "Test accuracy for iteration 7: 0.99\n",
            "\u001b[1m3/3\u001b[0m \u001b[32m━━━━━━━━━━━━━━━━━━━━\u001b[0m\u001b[37m\u001b[0m \u001b[1m7s\u001b[0m 2s/step\n",
            "Deleted folder: /content/drive/My Drive/final_project/ver1_output\n",
            "Running iteration 8/10 with seed 7\n"
          ]
        },
        {
          "output_type": "stream",
          "name": "stderr",
          "text": [
            "Copying files: 802 files [00:17, 45.11 files/s]\n"
          ]
        },
        {
          "output_type": "stream",
          "name": "stdout",
          "text": [
            "Found 559 images belonging to 2 classes.\n",
            "Found 160 images belonging to 2 classes.\n",
            "Found 81 images belonging to 2 classes.\n"
          ]
        },
        {
          "output_type": "stream",
          "name": "stderr",
          "text": [
            "/usr/local/lib/python3.11/dist-packages/keras/src/trainers/data_adapters/py_dataset_adapter.py:121: UserWarning: Your `PyDataset` class should call `super().__init__(**kwargs)` in its constructor. `**kwargs` can include `workers`, `use_multiprocessing`, `max_queue_size`. Do not pass these arguments to `fit()`, as they will be ignored.\n",
            "  self._warn_if_super_not_called()\n"
          ]
        },
        {
          "output_type": "stream",
          "name": "stdout",
          "text": [
            "Epoch 1/30\n",
            "\u001b[1m18/18\u001b[0m \u001b[32m━━━━━━━━━━━━━━━━━━━━\u001b[0m\u001b[37m\u001b[0m \u001b[1m53s\u001b[0m 3s/step - accuracy: 0.4544 - loss: 0.8217 - val_accuracy: 0.7437 - val_loss: 0.5633 - learning_rate: 7.0000e-05\n",
            "Epoch 2/30\n",
            "\u001b[1m18/18\u001b[0m \u001b[32m━━━━━━━━━━━━━━━━━━━━\u001b[0m\u001b[37m\u001b[0m \u001b[1m42s\u001b[0m 2s/step - accuracy: 0.7401 - loss: 0.5537 - val_accuracy: 0.8625 - val_loss: 0.4311 - learning_rate: 7.0000e-05\n",
            "Epoch 3/30\n",
            "\u001b[1m18/18\u001b[0m \u001b[32m━━━━━━━━━━━━━━━━━━━━\u001b[0m\u001b[37m\u001b[0m \u001b[1m43s\u001b[0m 2s/step - accuracy: 0.8544 - loss: 0.4199 - val_accuracy: 0.9062 - val_loss: 0.3487 - learning_rate: 7.0000e-05\n",
            "Epoch 4/30\n",
            "\u001b[1m18/18\u001b[0m \u001b[32m━━━━━━━━━━━━━━━━━━━━\u001b[0m\u001b[37m\u001b[0m \u001b[1m40s\u001b[0m 2s/step - accuracy: 0.8607 - loss: 0.3666 - val_accuracy: 0.9062 - val_loss: 0.3020 - learning_rate: 7.0000e-05\n",
            "Epoch 5/30\n",
            "\u001b[1m18/18\u001b[0m \u001b[32m━━━━━━━━━━━━━━━━━━━━\u001b[0m\u001b[37m\u001b[0m \u001b[1m42s\u001b[0m 2s/step - accuracy: 0.8657 - loss: 0.3326 - val_accuracy: 0.9187 - val_loss: 0.2690 - learning_rate: 7.0000e-05\n",
            "Epoch 6/30\n",
            "\u001b[1m18/18\u001b[0m \u001b[32m━━━━━━━━━━━━━━━━━━━━\u001b[0m\u001b[37m\u001b[0m \u001b[1m41s\u001b[0m 2s/step - accuracy: 0.8825 - loss: 0.2974 - val_accuracy: 0.9125 - val_loss: 0.2428 - learning_rate: 7.0000e-05\n",
            "Epoch 7/30\n",
            "\u001b[1m18/18\u001b[0m \u001b[32m━━━━━━━━━━━━━━━━━━━━\u001b[0m\u001b[37m\u001b[0m \u001b[1m43s\u001b[0m 2s/step - accuracy: 0.9064 - loss: 0.2751 - val_accuracy: 0.9438 - val_loss: 0.2203 - learning_rate: 7.0000e-05\n",
            "Epoch 8/30\n",
            "\u001b[1m18/18\u001b[0m \u001b[32m━━━━━━━━━━━━━━━━━━━━\u001b[0m\u001b[37m\u001b[0m \u001b[1m40s\u001b[0m 2s/step - accuracy: 0.9157 - loss: 0.2469 - val_accuracy: 0.9438 - val_loss: 0.2020 - learning_rate: 7.0000e-05\n",
            "Epoch 9/30\n",
            "\u001b[1m18/18\u001b[0m \u001b[32m━━━━━━━━━━━━━━━━━━━━\u001b[0m\u001b[37m\u001b[0m \u001b[1m42s\u001b[0m 2s/step - accuracy: 0.9279 - loss: 0.2195 - val_accuracy: 0.9500 - val_loss: 0.1891 - learning_rate: 7.0000e-05\n",
            "Epoch 10/30\n",
            "\u001b[1m18/18\u001b[0m \u001b[32m━━━━━━━━━━━━━━━━━━━━\u001b[0m\u001b[37m\u001b[0m \u001b[1m43s\u001b[0m 2s/step - accuracy: 0.9024 - loss: 0.2521 - val_accuracy: 0.9750 - val_loss: 0.1793 - learning_rate: 7.0000e-05\n",
            "Epoch 11/30\n",
            "\u001b[1m18/18\u001b[0m \u001b[32m━━━━━━━━━━━━━━━━━━━━\u001b[0m\u001b[37m\u001b[0m \u001b[1m41s\u001b[0m 2s/step - accuracy: 0.9022 - loss: 0.2279 - val_accuracy: 0.9750 - val_loss: 0.1707 - learning_rate: 7.0000e-05\n",
            "Epoch 12/30\n",
            "\u001b[1m18/18\u001b[0m \u001b[32m━━━━━━━━━━━━━━━━━━━━\u001b[0m\u001b[37m\u001b[0m \u001b[1m43s\u001b[0m 2s/step - accuracy: 0.9219 - loss: 0.2172 - val_accuracy: 0.9812 - val_loss: 0.1662 - learning_rate: 7.0000e-05\n",
            "Epoch 13/30\n",
            "\u001b[1m18/18\u001b[0m \u001b[32m━━━━━━━━━━━━━━━━━━━━\u001b[0m\u001b[37m\u001b[0m \u001b[1m41s\u001b[0m 2s/step - accuracy: 0.9161 - loss: 0.2052 - val_accuracy: 0.9812 - val_loss: 0.1583 - learning_rate: 7.0000e-05\n",
            "Epoch 14/30\n",
            "\u001b[1m18/18\u001b[0m \u001b[32m━━━━━━━━━━━━━━━━━━━━\u001b[0m\u001b[37m\u001b[0m \u001b[1m42s\u001b[0m 2s/step - accuracy: 0.9546 - loss: 0.1701 - val_accuracy: 0.9812 - val_loss: 0.1615 - learning_rate: 7.0000e-05\n",
            "Epoch 15/30\n",
            "\u001b[1m18/18\u001b[0m \u001b[32m━━━━━━━━━━━━━━━━━━━━\u001b[0m\u001b[37m\u001b[0m \u001b[1m41s\u001b[0m 2s/step - accuracy: 0.9340 - loss: 0.1757 - val_accuracy: 0.9812 - val_loss: 0.1489 - learning_rate: 7.0000e-05\n",
            "Epoch 16/30\n",
            "\u001b[1m18/18\u001b[0m \u001b[32m━━━━━━━━━━━━━━━━━━━━\u001b[0m\u001b[37m\u001b[0m \u001b[1m82s\u001b[0m 2s/step - accuracy: 0.9382 - loss: 0.1576 - val_accuracy: 0.9812 - val_loss: 0.1450 - learning_rate: 7.0000e-05\n",
            "Epoch 17/30\n",
            "\u001b[1m18/18\u001b[0m \u001b[32m━━━━━━━━━━━━━━━━━━━━\u001b[0m\u001b[37m\u001b[0m \u001b[1m42s\u001b[0m 2s/step - accuracy: 0.9358 - loss: 0.1695 - val_accuracy: 0.9812 - val_loss: 0.1424 - learning_rate: 7.0000e-05\n",
            "Epoch 18/30\n",
            "\u001b[1m18/18\u001b[0m \u001b[32m━━━━━━━━━━━━━━━━━━━━\u001b[0m\u001b[37m\u001b[0m \u001b[1m41s\u001b[0m 2s/step - accuracy: 0.9243 - loss: 0.1888 - val_accuracy: 0.9812 - val_loss: 0.1392 - learning_rate: 7.0000e-05\n",
            "Epoch 19/30\n",
            "\u001b[1m18/18\u001b[0m \u001b[32m━━━━━━━━━━━━━━━━━━━━\u001b[0m\u001b[37m\u001b[0m \u001b[1m43s\u001b[0m 2s/step - accuracy: 0.9388 - loss: 0.1882 - val_accuracy: 0.9812 - val_loss: 0.1386 - learning_rate: 7.0000e-05\n",
            "Epoch 20/30\n",
            "\u001b[1m18/18\u001b[0m \u001b[32m━━━━━━━━━━━━━━━━━━━━\u001b[0m\u001b[37m\u001b[0m \u001b[1m41s\u001b[0m 2s/step - accuracy: 0.9505 - loss: 0.1478 - val_accuracy: 0.9812 - val_loss: 0.1310 - learning_rate: 7.0000e-05\n",
            "Epoch 21/30\n",
            "\u001b[1m18/18\u001b[0m \u001b[32m━━━━━━━━━━━━━━━━━━━━\u001b[0m\u001b[37m\u001b[0m \u001b[1m42s\u001b[0m 2s/step - accuracy: 0.9420 - loss: 0.1568 - val_accuracy: 0.9750 - val_loss: 0.1417 - learning_rate: 7.0000e-05\n",
            "Epoch 22/30\n",
            "\u001b[1m18/18\u001b[0m \u001b[32m━━━━━━━━━━━━━━━━━━━━\u001b[0m\u001b[37m\u001b[0m \u001b[1m43s\u001b[0m 2s/step - accuracy: 0.9516 - loss: 0.1402 - val_accuracy: 0.9812 - val_loss: 0.1281 - learning_rate: 7.0000e-05\n",
            "Epoch 23/30\n",
            "\u001b[1m18/18\u001b[0m \u001b[32m━━━━━━━━━━━━━━━━━━━━\u001b[0m\u001b[37m\u001b[0m \u001b[1m41s\u001b[0m 2s/step - accuracy: 0.9406 - loss: 0.1550 - val_accuracy: 0.9812 - val_loss: 0.1308 - learning_rate: 7.0000e-05\n",
            "Epoch 24/30\n",
            "\u001b[1m18/18\u001b[0m \u001b[32m━━━━━━━━━━━━━━━━━━━━\u001b[0m\u001b[37m\u001b[0m \u001b[1m40s\u001b[0m 2s/step - accuracy: 0.9512 - loss: 0.1378 - val_accuracy: 0.9812 - val_loss: 0.1200 - learning_rate: 7.0000e-05\n",
            "Epoch 25/30\n",
            "\u001b[1m18/18\u001b[0m \u001b[32m━━━━━━━━━━━━━━━━━━━━\u001b[0m\u001b[37m\u001b[0m \u001b[1m41s\u001b[0m 2s/step - accuracy: 0.9323 - loss: 0.1430 - val_accuracy: 0.9812 - val_loss: 0.1221 - learning_rate: 7.0000e-05\n",
            "Epoch 26/30\n",
            "\u001b[1m18/18\u001b[0m \u001b[32m━━━━━━━━━━━━━━━━━━━━\u001b[0m\u001b[37m\u001b[0m \u001b[1m81s\u001b[0m 2s/step - accuracy: 0.9494 - loss: 0.1280 - val_accuracy: 0.9812 - val_loss: 0.1232 - learning_rate: 7.0000e-05\n",
            "Epoch 27/30\n",
            "\u001b[1m18/18\u001b[0m \u001b[32m━━━━━━━━━━━━━━━━━━━━\u001b[0m\u001b[37m\u001b[0m \u001b[1m41s\u001b[0m 2s/step - accuracy: 0.9371 - loss: 0.1589 - val_accuracy: 0.9812 - val_loss: 0.1166 - learning_rate: 7.0000e-05\n",
            "Epoch 28/30\n",
            "\u001b[1m18/18\u001b[0m \u001b[32m━━━━━━━━━━━━━━━━━━━━\u001b[0m\u001b[37m\u001b[0m \u001b[1m41s\u001b[0m 2s/step - accuracy: 0.9649 - loss: 0.1330 - val_accuracy: 0.9812 - val_loss: 0.1150 - learning_rate: 7.0000e-05\n",
            "Epoch 29/30\n",
            "\u001b[1m18/18\u001b[0m \u001b[32m━━━━━━━━━━━━━━━━━━━━\u001b[0m\u001b[37m\u001b[0m \u001b[1m43s\u001b[0m 2s/step - accuracy: 0.9307 - loss: 0.1552 - val_accuracy: 0.9812 - val_loss: 0.1148 - learning_rate: 7.0000e-05\n",
            "Epoch 30/30\n",
            "\u001b[1m18/18\u001b[0m \u001b[32m━━━━━━━━━━━━━━━━━━━━\u001b[0m\u001b[37m\u001b[0m \u001b[1m42s\u001b[0m 2s/step - accuracy: 0.9453 - loss: 0.1390 - val_accuracy: 0.9812 - val_loss: 0.1147 - learning_rate: 7.0000e-05\n",
            "\u001b[1m3/3\u001b[0m \u001b[32m━━━━━━━━━━━━━━━━━━━━\u001b[0m\u001b[37m\u001b[0m \u001b[1m4s\u001b[0m 921ms/step - accuracy: 0.9105 - loss: 0.1582\n",
            "Test accuracy for iteration 8: 0.94\n",
            "\u001b[1m3/3\u001b[0m \u001b[32m━━━━━━━━━━━━━━━━━━━━\u001b[0m\u001b[37m\u001b[0m \u001b[1m8s\u001b[0m 2s/step\n",
            "Deleted folder: /content/drive/My Drive/final_project/ver1_output\n",
            "Running iteration 9/10 with seed 8\n"
          ]
        },
        {
          "output_type": "stream",
          "name": "stderr",
          "text": [
            "Copying files: 802 files [00:17, 45.66 files/s]\n"
          ]
        },
        {
          "output_type": "stream",
          "name": "stdout",
          "text": [
            "Found 561 images belonging to 2 classes.\n",
            "Found 159 images belonging to 2 classes.\n",
            "Found 80 images belonging to 2 classes.\n"
          ]
        },
        {
          "output_type": "stream",
          "name": "stderr",
          "text": [
            "/usr/local/lib/python3.11/dist-packages/keras/src/trainers/data_adapters/py_dataset_adapter.py:121: UserWarning: Your `PyDataset` class should call `super().__init__(**kwargs)` in its constructor. `**kwargs` can include `workers`, `use_multiprocessing`, `max_queue_size`. Do not pass these arguments to `fit()`, as they will be ignored.\n",
            "  self._warn_if_super_not_called()\n"
          ]
        },
        {
          "output_type": "stream",
          "name": "stdout",
          "text": [
            "Epoch 1/30\n",
            "\u001b[1m18/18\u001b[0m \u001b[32m━━━━━━━━━━━━━━━━━━━━\u001b[0m\u001b[37m\u001b[0m \u001b[1m52s\u001b[0m 3s/step - accuracy: 0.4628 - loss: 0.8808 - val_accuracy: 0.6038 - val_loss: 0.6529 - learning_rate: 7.0000e-05\n",
            "Epoch 2/30\n",
            "\u001b[1m18/18\u001b[0m \u001b[32m━━━━━━━━━━━━━━━━━━━━\u001b[0m\u001b[37m\u001b[0m \u001b[1m41s\u001b[0m 2s/step - accuracy: 0.6821 - loss: 0.5851 - val_accuracy: 0.7610 - val_loss: 0.5006 - learning_rate: 7.0000e-05\n",
            "Epoch 3/30\n",
            "\u001b[1m18/18\u001b[0m \u001b[32m━━━━━━━━━━━━━━━━━━━━\u001b[0m\u001b[37m\u001b[0m \u001b[1m42s\u001b[0m 2s/step - accuracy: 0.8012 - loss: 0.4529 - val_accuracy: 0.8491 - val_loss: 0.4169 - learning_rate: 7.0000e-05\n",
            "Epoch 4/30\n",
            "\u001b[1m18/18\u001b[0m \u001b[32m━━━━━━━━━━━━━━━━━━━━\u001b[0m\u001b[37m\u001b[0m \u001b[1m40s\u001b[0m 2s/step - accuracy: 0.8663 - loss: 0.3840 - val_accuracy: 0.8553 - val_loss: 0.3674 - learning_rate: 7.0000e-05\n",
            "Epoch 5/30\n",
            "\u001b[1m18/18\u001b[0m \u001b[32m━━━━━━━━━━━━━━━━━━━━\u001b[0m\u001b[37m\u001b[0m \u001b[1m44s\u001b[0m 2s/step - accuracy: 0.8890 - loss: 0.3367 - val_accuracy: 0.8868 - val_loss: 0.3289 - learning_rate: 7.0000e-05\n",
            "Epoch 6/30\n",
            "\u001b[1m18/18\u001b[0m \u001b[32m━━━━━━━━━━━━━━━━━━━━\u001b[0m\u001b[37m\u001b[0m \u001b[1m42s\u001b[0m 2s/step - accuracy: 0.8733 - loss: 0.3178 - val_accuracy: 0.8868 - val_loss: 0.2968 - learning_rate: 7.0000e-05\n",
            "Epoch 7/30\n",
            "\u001b[1m18/18\u001b[0m \u001b[32m━━━━━━━━━━━━━━━━━━━━\u001b[0m\u001b[37m\u001b[0m \u001b[1m41s\u001b[0m 2s/step - accuracy: 0.8905 - loss: 0.2839 - val_accuracy: 0.9119 - val_loss: 0.2756 - learning_rate: 7.0000e-05\n",
            "Epoch 8/30\n",
            "\u001b[1m18/18\u001b[0m \u001b[32m━━━━━━━━━━━━━━━━━━━━\u001b[0m\u001b[37m\u001b[0m \u001b[1m42s\u001b[0m 2s/step - accuracy: 0.9002 - loss: 0.2588 - val_accuracy: 0.9119 - val_loss: 0.2536 - learning_rate: 7.0000e-05\n",
            "Epoch 9/30\n",
            "\u001b[1m18/18\u001b[0m \u001b[32m━━━━━━━━━━━━━━━━━━━━\u001b[0m\u001b[37m\u001b[0m \u001b[1m43s\u001b[0m 2s/step - accuracy: 0.9354 - loss: 0.2232 - val_accuracy: 0.9119 - val_loss: 0.2390 - learning_rate: 7.0000e-05\n",
            "Epoch 10/30\n",
            "\u001b[1m18/18\u001b[0m \u001b[32m━━━━━━━━━━━━━━━━━━━━\u001b[0m\u001b[37m\u001b[0m \u001b[1m41s\u001b[0m 2s/step - accuracy: 0.9335 - loss: 0.2234 - val_accuracy: 0.9119 - val_loss: 0.2297 - learning_rate: 7.0000e-05\n",
            "Epoch 11/30\n",
            "\u001b[1m18/18\u001b[0m \u001b[32m━━━━━━━━━━━━━━━━━━━━\u001b[0m\u001b[37m\u001b[0m \u001b[1m43s\u001b[0m 2s/step - accuracy: 0.9240 - loss: 0.2130 - val_accuracy: 0.9182 - val_loss: 0.2177 - learning_rate: 7.0000e-05\n",
            "Epoch 12/30\n",
            "\u001b[1m18/18\u001b[0m \u001b[32m━━━━━━━━━━━━━━━━━━━━\u001b[0m\u001b[37m\u001b[0m \u001b[1m80s\u001b[0m 2s/step - accuracy: 0.9316 - loss: 0.1881 - val_accuracy: 0.9245 - val_loss: 0.2161 - learning_rate: 7.0000e-05\n",
            "Epoch 13/30\n",
            "\u001b[1m18/18\u001b[0m \u001b[32m━━━━━━━━━━━━━━━━━━━━\u001b[0m\u001b[37m\u001b[0m \u001b[1m43s\u001b[0m 2s/step - accuracy: 0.9287 - loss: 0.1965 - val_accuracy: 0.9245 - val_loss: 0.2057 - learning_rate: 7.0000e-05\n",
            "Epoch 14/30\n",
            "\u001b[1m18/18\u001b[0m \u001b[32m━━━━━━━━━━━━━━━━━━━━\u001b[0m\u001b[37m\u001b[0m \u001b[1m41s\u001b[0m 2s/step - accuracy: 0.9240 - loss: 0.1881 - val_accuracy: 0.9308 - val_loss: 0.2040 - learning_rate: 7.0000e-05\n",
            "Epoch 15/30\n",
            "\u001b[1m18/18\u001b[0m \u001b[32m━━━━━━━━━━━━━━━━━━━━\u001b[0m\u001b[37m\u001b[0m \u001b[1m43s\u001b[0m 2s/step - accuracy: 0.9436 - loss: 0.1784 - val_accuracy: 0.9245 - val_loss: 0.1915 - learning_rate: 7.0000e-05\n",
            "Epoch 16/30\n",
            "\u001b[1m18/18\u001b[0m \u001b[32m━━━━━━━━━━━━━━━━━━━━\u001b[0m\u001b[37m\u001b[0m \u001b[1m41s\u001b[0m 2s/step - accuracy: 0.9377 - loss: 0.1797 - val_accuracy: 0.9245 - val_loss: 0.1831 - learning_rate: 7.0000e-05\n",
            "Epoch 17/30\n",
            "\u001b[1m18/18\u001b[0m \u001b[32m━━━━━━━━━━━━━━━━━━━━\u001b[0m\u001b[37m\u001b[0m \u001b[1m41s\u001b[0m 2s/step - accuracy: 0.9320 - loss: 0.1638 - val_accuracy: 0.9245 - val_loss: 0.1791 - learning_rate: 7.0000e-05\n",
            "Epoch 18/30\n",
            "\u001b[1m18/18\u001b[0m \u001b[32m━━━━━━━━━━━━━━━━━━━━\u001b[0m\u001b[37m\u001b[0m \u001b[1m44s\u001b[0m 2s/step - accuracy: 0.9611 - loss: 0.1416 - val_accuracy: 0.9371 - val_loss: 0.1801 - learning_rate: 7.0000e-05\n",
            "Epoch 19/30\n",
            "\u001b[1m18/18\u001b[0m \u001b[32m━━━━━━━━━━━━━━━━━━━━\u001b[0m\u001b[37m\u001b[0m \u001b[1m41s\u001b[0m 2s/step - accuracy: 0.9507 - loss: 0.1552 - val_accuracy: 0.9371 - val_loss: 0.1751 - learning_rate: 7.0000e-05\n",
            "Epoch 20/30\n",
            "\u001b[1m18/18\u001b[0m \u001b[32m━━━━━━━━━━━━━━━━━━━━\u001b[0m\u001b[37m\u001b[0m \u001b[1m43s\u001b[0m 2s/step - accuracy: 0.9457 - loss: 0.1631 - val_accuracy: 0.9371 - val_loss: 0.1742 - learning_rate: 7.0000e-05\n",
            "Epoch 21/30\n",
            "\u001b[1m18/18\u001b[0m \u001b[32m━━━━━━━━━━━━━━━━━━━━\u001b[0m\u001b[37m\u001b[0m \u001b[1m41s\u001b[0m 2s/step - accuracy: 0.9468 - loss: 0.1395 - val_accuracy: 0.9371 - val_loss: 0.1699 - learning_rate: 7.0000e-05\n",
            "Epoch 22/30\n",
            "\u001b[1m18/18\u001b[0m \u001b[32m━━━━━━━━━━━━━━━━━━━━\u001b[0m\u001b[37m\u001b[0m \u001b[1m43s\u001b[0m 2s/step - accuracy: 0.9541 - loss: 0.1300 - val_accuracy: 0.9371 - val_loss: 0.1653 - learning_rate: 7.0000e-05\n",
            "Epoch 23/30\n",
            "\u001b[1m18/18\u001b[0m \u001b[32m━━━━━━━━━━━━━━━━━━━━\u001b[0m\u001b[37m\u001b[0m \u001b[1m43s\u001b[0m 2s/step - accuracy: 0.9437 - loss: 0.1502 - val_accuracy: 0.9434 - val_loss: 0.1784 - learning_rate: 7.0000e-05\n",
            "Epoch 24/30\n",
            "\u001b[1m18/18\u001b[0m \u001b[32m━━━━━━━━━━━━━━━━━━━━\u001b[0m\u001b[37m\u001b[0m \u001b[1m40s\u001b[0m 2s/step - accuracy: 0.9456 - loss: 0.1491 - val_accuracy: 0.9371 - val_loss: 0.1552 - learning_rate: 7.0000e-05\n",
            "Epoch 25/30\n",
            "\u001b[1m18/18\u001b[0m \u001b[32m━━━━━━━━━━━━━━━━━━━━\u001b[0m\u001b[37m\u001b[0m \u001b[1m42s\u001b[0m 2s/step - accuracy: 0.9556 - loss: 0.1265 - val_accuracy: 0.9371 - val_loss: 0.1562 - learning_rate: 7.0000e-05\n",
            "Epoch 26/30\n",
            "\u001b[1m18/18\u001b[0m \u001b[32m━━━━━━━━━━━━━━━━━━━━\u001b[0m\u001b[37m\u001b[0m \u001b[1m41s\u001b[0m 2s/step - accuracy: 0.9609 - loss: 0.1207 - val_accuracy: 0.9371 - val_loss: 0.1570 - learning_rate: 7.0000e-05\n",
            "Epoch 27/30\n",
            "\u001b[1m18/18\u001b[0m \u001b[32m━━━━━━━━━━━━━━━━━━━━\u001b[0m\u001b[37m\u001b[0m \u001b[1m39s\u001b[0m 2s/step - accuracy: 0.9557 - loss: 0.1306 - val_accuracy: 0.9371 - val_loss: 0.1568 - learning_rate: 7.0000e-05\n",
            "Epoch 28/30\n",
            "\u001b[1m18/18\u001b[0m \u001b[32m━━━━━━━━━━━━━━━━━━━━\u001b[0m\u001b[37m\u001b[0m \u001b[1m40s\u001b[0m 2s/step - accuracy: 0.9494 - loss: 0.1079 - val_accuracy: 0.9371 - val_loss: 0.1504 - learning_rate: 3.5000e-05\n",
            "Epoch 29/30\n",
            "\u001b[1m18/18\u001b[0m \u001b[32m━━━━━━━━━━━━━━━━━━━━\u001b[0m\u001b[37m\u001b[0m \u001b[1m41s\u001b[0m 2s/step - accuracy: 0.9545 - loss: 0.1177 - val_accuracy: 0.9371 - val_loss: 0.1507 - learning_rate: 3.5000e-05\n",
            "Epoch 30/30\n",
            "\u001b[1m18/18\u001b[0m \u001b[32m━━━━━━━━━━━━━━━━━━━━\u001b[0m\u001b[37m\u001b[0m \u001b[1m41s\u001b[0m 2s/step - accuracy: 0.9768 - loss: 0.1084 - val_accuracy: 0.9371 - val_loss: 0.1543 - learning_rate: 3.5000e-05\n",
            "\u001b[1m3/3\u001b[0m \u001b[32m━━━━━━━━━━━━━━━━━━━━\u001b[0m\u001b[37m\u001b[0m \u001b[1m5s\u001b[0m 1s/step - accuracy: 0.9297 - loss: 0.1837\n",
            "Test accuracy for iteration 9: 0.94\n",
            "\u001b[1m3/3\u001b[0m \u001b[32m━━━━━━━━━━━━━━━━━━━━\u001b[0m\u001b[37m\u001b[0m \u001b[1m6s\u001b[0m 2s/step\n",
            "Deleted folder: /content/drive/My Drive/final_project/ver1_output\n",
            "Running iteration 10/10 with seed 9\n"
          ]
        },
        {
          "output_type": "stream",
          "name": "stderr",
          "text": [
            "Copying files: 802 files [00:17, 44.93 files/s]\n"
          ]
        },
        {
          "output_type": "stream",
          "name": "stdout",
          "text": [
            "Found 560 images belonging to 2 classes.\n",
            "Found 159 images belonging to 2 classes.\n",
            "Found 81 images belonging to 2 classes.\n"
          ]
        },
        {
          "output_type": "stream",
          "name": "stderr",
          "text": [
            "/usr/local/lib/python3.11/dist-packages/keras/src/trainers/data_adapters/py_dataset_adapter.py:121: UserWarning: Your `PyDataset` class should call `super().__init__(**kwargs)` in its constructor. `**kwargs` can include `workers`, `use_multiprocessing`, `max_queue_size`. Do not pass these arguments to `fit()`, as they will be ignored.\n",
            "  self._warn_if_super_not_called()\n"
          ]
        },
        {
          "output_type": "stream",
          "name": "stdout",
          "text": [
            "Epoch 1/30\n",
            "\u001b[1m18/18\u001b[0m \u001b[32m━━━━━━━━━━━━━━━━━━━━\u001b[0m\u001b[37m\u001b[0m \u001b[1m52s\u001b[0m 3s/step - accuracy: 0.4641 - loss: 0.8441 - val_accuracy: 0.6604 - val_loss: 0.5924 - learning_rate: 7.0000e-05\n",
            "Epoch 2/30\n",
            "\u001b[1m18/18\u001b[0m \u001b[32m━━━━━━━━━━━━━━━━━━━━\u001b[0m\u001b[37m\u001b[0m \u001b[1m40s\u001b[0m 2s/step - accuracy: 0.6709 - loss: 0.5980 - val_accuracy: 0.8176 - val_loss: 0.4427 - learning_rate: 7.0000e-05\n",
            "Epoch 3/30\n",
            "\u001b[1m18/18\u001b[0m \u001b[32m━━━━━━━━━━━━━━━━━━━━\u001b[0m\u001b[37m\u001b[0m \u001b[1m40s\u001b[0m 2s/step - accuracy: 0.7946 - loss: 0.4664 - val_accuracy: 0.8302 - val_loss: 0.3751 - learning_rate: 7.0000e-05\n",
            "Epoch 4/30\n",
            "\u001b[1m18/18\u001b[0m \u001b[32m━━━━━━━━━━━━━━━━━━━━\u001b[0m\u001b[37m\u001b[0m \u001b[1m42s\u001b[0m 2s/step - accuracy: 0.8438 - loss: 0.3870 - val_accuracy: 0.8679 - val_loss: 0.3269 - learning_rate: 7.0000e-05\n",
            "Epoch 5/30\n",
            "\u001b[1m18/18\u001b[0m \u001b[32m━━━━━━━━━━━━━━━━━━━━\u001b[0m\u001b[37m\u001b[0m \u001b[1m42s\u001b[0m 2s/step - accuracy: 0.8493 - loss: 0.3665 - val_accuracy: 0.8868 - val_loss: 0.2959 - learning_rate: 7.0000e-05\n",
            "Epoch 6/30\n",
            "\u001b[1m18/18\u001b[0m \u001b[32m━━━━━━━━━━━━━━━━━━━━\u001b[0m\u001b[37m\u001b[0m \u001b[1m40s\u001b[0m 2s/step - accuracy: 0.8827 - loss: 0.3051 - val_accuracy: 0.9057 - val_loss: 0.2733 - learning_rate: 7.0000e-05\n",
            "Epoch 7/30\n",
            "\u001b[1m18/18\u001b[0m \u001b[32m━━━━━━━━━━━━━━━━━━━━\u001b[0m\u001b[37m\u001b[0m \u001b[1m41s\u001b[0m 2s/step - accuracy: 0.9016 - loss: 0.2643 - val_accuracy: 0.9057 - val_loss: 0.2507 - learning_rate: 7.0000e-05\n",
            "Epoch 8/30\n",
            "\u001b[1m18/18\u001b[0m \u001b[32m━━━━━━━━━━━━━━━━━━━━\u001b[0m\u001b[37m\u001b[0m \u001b[1m43s\u001b[0m 2s/step - accuracy: 0.8919 - loss: 0.2548 - val_accuracy: 0.9182 - val_loss: 0.2354 - learning_rate: 7.0000e-05\n",
            "Epoch 9/30\n",
            "\u001b[1m18/18\u001b[0m \u001b[32m━━━━━━━━━━━━━━━━━━━━\u001b[0m\u001b[37m\u001b[0m \u001b[1m43s\u001b[0m 2s/step - accuracy: 0.8868 - loss: 0.2374 - val_accuracy: 0.9308 - val_loss: 0.2210 - learning_rate: 7.0000e-05\n",
            "Epoch 10/30\n",
            "\u001b[1m18/18\u001b[0m \u001b[32m━━━━━━━━━━━━━━━━━━━━\u001b[0m\u001b[37m\u001b[0m \u001b[1m40s\u001b[0m 2s/step - accuracy: 0.9309 - loss: 0.2012 - val_accuracy: 0.9308 - val_loss: 0.2113 - learning_rate: 7.0000e-05\n",
            "Epoch 11/30\n",
            "\u001b[1m18/18\u001b[0m \u001b[32m━━━━━━━━━━━━━━━━━━━━\u001b[0m\u001b[37m\u001b[0m \u001b[1m42s\u001b[0m 2s/step - accuracy: 0.9081 - loss: 0.2034 - val_accuracy: 0.9245 - val_loss: 0.2046 - learning_rate: 7.0000e-05\n",
            "Epoch 12/30\n",
            "\u001b[1m18/18\u001b[0m \u001b[32m━━━━━━━━━━━━━━━━━━━━\u001b[0m\u001b[37m\u001b[0m \u001b[1m43s\u001b[0m 2s/step - accuracy: 0.9415 - loss: 0.1834 - val_accuracy: 0.9308 - val_loss: 0.2053 - learning_rate: 7.0000e-05\n",
            "Epoch 13/30\n",
            "\u001b[1m18/18\u001b[0m \u001b[32m━━━━━━━━━━━━━━━━━━━━\u001b[0m\u001b[37m\u001b[0m \u001b[1m43s\u001b[0m 2s/step - accuracy: 0.9344 - loss: 0.2041 - val_accuracy: 0.9308 - val_loss: 0.1874 - learning_rate: 7.0000e-05\n",
            "Epoch 14/30\n",
            "\u001b[1m18/18\u001b[0m \u001b[32m━━━━━━━━━━━━━━━━━━━━\u001b[0m\u001b[37m\u001b[0m \u001b[1m41s\u001b[0m 2s/step - accuracy: 0.9233 - loss: 0.1825 - val_accuracy: 0.9371 - val_loss: 0.1811 - learning_rate: 7.0000e-05\n",
            "Epoch 15/30\n",
            "\u001b[1m18/18\u001b[0m \u001b[32m━━━━━━━━━━━━━━━━━━━━\u001b[0m\u001b[37m\u001b[0m \u001b[1m81s\u001b[0m 2s/step - accuracy: 0.9233 - loss: 0.1772 - val_accuracy: 0.9308 - val_loss: 0.1770 - learning_rate: 7.0000e-05\n",
            "Epoch 16/30\n",
            "\u001b[1m18/18\u001b[0m \u001b[32m━━━━━━━━━━━━━━━━━━━━\u001b[0m\u001b[37m\u001b[0m \u001b[1m41s\u001b[0m 2s/step - accuracy: 0.9381 - loss: 0.1556 - val_accuracy: 0.9371 - val_loss: 0.1724 - learning_rate: 7.0000e-05\n",
            "Epoch 17/30\n",
            "\u001b[1m18/18\u001b[0m \u001b[32m━━━━━━━━━━━━━━━━━━━━\u001b[0m\u001b[37m\u001b[0m \u001b[1m41s\u001b[0m 2s/step - accuracy: 0.9661 - loss: 0.1431 - val_accuracy: 0.9308 - val_loss: 0.1750 - learning_rate: 7.0000e-05\n",
            "Epoch 18/30\n",
            "\u001b[1m18/18\u001b[0m \u001b[32m━━━━━━━━━━━━━━━━━━━━\u001b[0m\u001b[37m\u001b[0m \u001b[1m41s\u001b[0m 2s/step - accuracy: 0.9645 - loss: 0.1465 - val_accuracy: 0.9560 - val_loss: 0.1633 - learning_rate: 7.0000e-05\n",
            "Epoch 19/30\n",
            "\u001b[1m18/18\u001b[0m \u001b[32m━━━━━━━━━━━━━━━━━━━━\u001b[0m\u001b[37m\u001b[0m \u001b[1m44s\u001b[0m 2s/step - accuracy: 0.9626 - loss: 0.1364 - val_accuracy: 0.9308 - val_loss: 0.1671 - learning_rate: 7.0000e-05\n",
            "Epoch 20/30\n",
            "\u001b[1m18/18\u001b[0m \u001b[32m━━━━━━━━━━━━━━━━━━━━\u001b[0m\u001b[37m\u001b[0m \u001b[1m44s\u001b[0m 2s/step - accuracy: 0.9434 - loss: 0.1465 - val_accuracy: 0.9308 - val_loss: 0.1653 - learning_rate: 7.0000e-05\n",
            "Epoch 21/30\n",
            "\u001b[1m18/18\u001b[0m \u001b[32m━━━━━━━━━━━━━━━━━━━━\u001b[0m\u001b[37m\u001b[0m \u001b[1m41s\u001b[0m 2s/step - accuracy: 0.9659 - loss: 0.1261 - val_accuracy: 0.9497 - val_loss: 0.1580 - learning_rate: 7.0000e-05\n",
            "Epoch 22/30\n",
            "\u001b[1m18/18\u001b[0m \u001b[32m━━━━━━━━━━━━━━━━━━━━\u001b[0m\u001b[37m\u001b[0m \u001b[1m42s\u001b[0m 2s/step - accuracy: 0.9603 - loss: 0.1241 - val_accuracy: 0.9434 - val_loss: 0.1554 - learning_rate: 7.0000e-05\n",
            "Epoch 23/30\n",
            "\u001b[1m18/18\u001b[0m \u001b[32m━━━━━━━━━━━━━━━━━━━━\u001b[0m\u001b[37m\u001b[0m \u001b[1m41s\u001b[0m 2s/step - accuracy: 0.9677 - loss: 0.1236 - val_accuracy: 0.9560 - val_loss: 0.1474 - learning_rate: 7.0000e-05\n",
            "Epoch 24/30\n",
            "\u001b[1m18/18\u001b[0m \u001b[32m━━━━━━━━━━━━━━━━━━━━\u001b[0m\u001b[37m\u001b[0m \u001b[1m41s\u001b[0m 2s/step - accuracy: 0.9353 - loss: 0.1395 - val_accuracy: 0.9497 - val_loss: 0.1476 - learning_rate: 7.0000e-05\n",
            "Epoch 25/30\n",
            "\u001b[1m18/18\u001b[0m \u001b[32m━━━━━━━━━━━━━━━━━━━━\u001b[0m\u001b[37m\u001b[0m \u001b[1m44s\u001b[0m 2s/step - accuracy: 0.9640 - loss: 0.1153 - val_accuracy: 0.9623 - val_loss: 0.1423 - learning_rate: 7.0000e-05\n",
            "Epoch 26/30\n",
            "\u001b[1m18/18\u001b[0m \u001b[32m━━━━━━━━━━━━━━━━━━━━\u001b[0m\u001b[37m\u001b[0m \u001b[1m79s\u001b[0m 2s/step - accuracy: 0.9638 - loss: 0.1333 - val_accuracy: 0.9434 - val_loss: 0.1487 - learning_rate: 7.0000e-05\n",
            "Epoch 27/30\n",
            "\u001b[1m18/18\u001b[0m \u001b[32m━━━━━━━━━━━━━━━━━━━━\u001b[0m\u001b[37m\u001b[0m \u001b[1m81s\u001b[0m 2s/step - accuracy: 0.9620 - loss: 0.1060 - val_accuracy: 0.9560 - val_loss: 0.1419 - learning_rate: 7.0000e-05\n",
            "Epoch 28/30\n",
            "\u001b[1m18/18\u001b[0m \u001b[32m━━━━━━━━━━━━━━━━━━━━\u001b[0m\u001b[37m\u001b[0m \u001b[1m40s\u001b[0m 2s/step - accuracy: 0.9650 - loss: 0.1182 - val_accuracy: 0.9623 - val_loss: 0.1376 - learning_rate: 7.0000e-05\n",
            "Epoch 29/30\n",
            "\u001b[1m18/18\u001b[0m \u001b[32m━━━━━━━━━━━━━━━━━━━━\u001b[0m\u001b[37m\u001b[0m \u001b[1m40s\u001b[0m 2s/step - accuracy: 0.9682 - loss: 0.1182 - val_accuracy: 0.9308 - val_loss: 0.1542 - learning_rate: 7.0000e-05\n",
            "Epoch 30/30\n",
            "\u001b[1m18/18\u001b[0m \u001b[32m━━━━━━━━━━━━━━━━━━━━\u001b[0m\u001b[37m\u001b[0m \u001b[1m42s\u001b[0m 2s/step - accuracy: 0.9663 - loss: 0.1033 - val_accuracy: 0.9560 - val_loss: 0.1332 - learning_rate: 7.0000e-05\n",
            "\u001b[1m3/3\u001b[0m \u001b[32m━━━━━━━━━━━━━━━━━━━━\u001b[0m\u001b[37m\u001b[0m \u001b[1m3s\u001b[0m 915ms/step - accuracy: 0.9418 - loss: 0.1435\n",
            "Test accuracy for iteration 10: 0.94\n",
            "\u001b[1m3/3\u001b[0m \u001b[32m━━━━━━━━━━━━━━━━━━━━\u001b[0m\u001b[37m\u001b[0m \u001b[1m9s\u001b[0m 2s/step\n",
            "Deleted folder: /content/drive/My Drive/final_project/ver1_output\n"
          ]
        }
      ],
      "source": [
        "\n",
        "import os\n",
        "import time\n",
        "import shutil\n",
        "from tensorflow.keras.models import Sequential\n",
        "from tensorflow.keras.layers import Conv2D, MaxPooling2D, Flatten, Dense, Dropout, Input\n",
        "from tensorflow.keras.optimizers import Adam\n",
        "from tensorflow.keras.callbacks import ReduceLROnPlateau\n",
        "\n",
        "import splitfolders\n",
        "from google.colab import drive\n",
        "import tensorflow as tf\n",
        "import numpy as np\n",
        "import random\n",
        "\n",
        "from tensorflow.keras.preprocessing.image import ImageDataGenerator\n",
        "\n",
        "from tensorflow.keras.applications import MobileNetV2\n",
        "from tensorflow.keras.models import Sequential\n",
        "from tensorflow.keras.layers import Dense, GlobalAveragePooling2D, Dropout\n",
        "from tensorflow.keras.optimizers import Adam\n",
        "\n",
        "import matplotlib.pyplot as plt\n",
        "\n",
        "from sklearn.metrics import confusion_matrix, classification_report\n",
        "import numpy as np\n",
        "import matplotlib.pyplot as plt\n",
        "import seaborn as sns\n",
        "# connecting all paths to the relvent folders\n",
        "drive.mount('/content/drive')\n",
        "input_folder = '/content/drive/My Drive/final_project/ver1'\n",
        "output_folder = '/content/drive/My Drive/final_project/ver1_output'\n",
        "if not os.path.exists(input_folder):\n",
        "    raise FileNotFoundError(f\"Input folder '{input_folder}' not found. Please check your path.\")\n",
        "\n",
        "# Deleting folders function to prevent problems\n",
        "def reset_output_folder(folder_path):\n",
        "    if os.path.exists(folder_path):\n",
        "        shutil.rmtree(folder_path)\n",
        "        print(f\"Deleted folder: {folder_path}\")\n",
        "    time.sleep(120) # Wait 2 minutes to ensure that the folders get fully deleted\n",
        "\n",
        "\n",
        "# hyperparameters\n",
        "epochs = 30\n",
        "batch_size = 32\n",
        "image_size = (224, 224)\n",
        "all_accuracies = []\n",
        "all_confusion_matrices = []\n",
        "all_train_acc = []\n",
        "all_val_acc = []\n",
        "all_train_loss = []\n",
        "all_val_loss = []\n",
        "\n",
        "# Running the code 10 times so we will get an avrege of multiple runs as the data is small and the result can vary significantly by the split of the data\n",
        "for seed in range(10):\n",
        "    print(f\"Running iteration {seed + 1}/10 with seed {seed}\")\n",
        "\n",
        "    reset_output_folder(output_folder)\n",
        " # splitting data into appropriate folders 70% training 20% validation 10% test\n",
        "    import splitfolders\n",
        "    splitfolders.ratio(input_folder, output=output_folder, seed=seed, ratio=(0.7, 0.2, 0.1))\n",
        "    time.sleep(120)  # Wait 2 minutes to ensure that the images upload into the folders\n",
        "\n",
        "\n",
        "\n",
        "# image augmentation\n",
        "    train_datagen = ImageDataGenerator(\n",
        "        rescale=1./255,\n",
        "        rotation_range=20,\n",
        "        width_shift_range=0.1,\n",
        "        brightness_range=[0.8, 1.2],\n",
        "        height_shift_range=0.1,\n",
        "        shear_range=0.2,\n",
        "        zoom_range=0.2,\n",
        "        vertical_flip=True,\n",
        "        horizontal_flip=True,\n",
        "        fill_mode='nearest'\n",
        "    )\n",
        "    test_val_datagen = ImageDataGenerator(rescale=1./255)\n",
        "\n",
        "    train_generator = train_datagen.flow_from_directory(\n",
        "        os.path.join(output_folder, 'train'),\n",
        "        target_size=image_size,\n",
        "        batch_size=batch_size,\n",
        "        class_mode='binary',\n",
        "        shuffle=True,\n",
        "        seed=seed\n",
        "    )\n",
        "    validation_generator = test_val_datagen.flow_from_directory(\n",
        "        os.path.join(output_folder, 'val'),\n",
        "        target_size=image_size,\n",
        "        batch_size=batch_size,\n",
        "        class_mode='binary',\n",
        "        shuffle=True\n",
        "    )\n",
        "    test_generator = test_val_datagen.flow_from_directory(\n",
        "        os.path.join(output_folder, 'test'),\n",
        "        target_size=image_size,\n",
        "        batch_size=batch_size,\n",
        "        class_mode='binary',\n",
        "        shuffle=False\n",
        "    )\n",
        "    # Upload MobileNetV2 model without the top layers\n",
        "    base_model = MobileNetV2(weights='imagenet', include_top=False, input_shape=(*image_size, 3))\n",
        "    #Leaving the rest of the weights of the other layers\n",
        "    base_model.trainable = False\n",
        "\n",
        "    #adding extra layers at the end\n",
        "    model = Sequential([\n",
        "        base_model,\n",
        "        GlobalAveragePooling2D(),\n",
        "        Dense(128, activation='relu'),\n",
        "        Dropout(0.15),\n",
        "        Dense(1, activation='sigmoid')\n",
        "    ])\n",
        "    #choosing an optimizer and its hyperparameters\n",
        "    model.compile(optimizer=Adam(learning_rate=7e-5), loss='binary_crossentropy', metrics=['accuracy'])\n",
        "\n",
        "    # training added layers\n",
        "    history = model.fit(\n",
        "        train_generator,\n",
        "        validation_data=validation_generator,\n",
        "        epochs=epochs,\n",
        "        callbacks=[ReduceLROnPlateau(monitor='val_loss', factor=0.5, patience=3, min_lr=1e-6)]\n",
        "    )\n",
        "\n",
        "    #Saving the data of each run\n",
        "    all_train_acc.append(history.history['accuracy'])\n",
        "    all_val_acc.append(history.history['val_accuracy'])\n",
        "    all_train_loss.append(history.history['loss'])\n",
        "    all_val_loss.append(history.history['val_loss'])\n",
        "    test_loss, test_acc = model.evaluate(test_generator)\n",
        "    print(f\"Test accuracy for iteration {seed + 1}: {test_acc:.2f}\")\n",
        "    all_accuracies.append(test_acc)\n",
        "\n",
        "    # saving confusion matrix data\n",
        "    Y_pred = model.predict(test_generator)\n",
        "    y_pred = np.round(Y_pred).astype(int)\n",
        "    y_true = test_generator.classes\n",
        "    cm = confusion_matrix(y_true, y_pred)\n",
        "    all_confusion_matrices.append(cm)\n",
        "\n",
        "\n",
        "    reset_output_folder(output_folder)"
      ]
    },
    {
      "cell_type": "code",
      "execution_count": null,
      "metadata": {
        "id": "yHFboq82BBI0",
        "colab": {
          "base_uri": "https://localhost:8080/",
          "height": 1000
        },
        "outputId": "fe738184-f674-4985-e469-9dfd5ef364ec"
      },
      "outputs": [
        {
          "output_type": "display_data",
          "data": {
            "text/plain": [
              "<Figure size 1000x500 with 1 Axes>"
            ],
            "image/png": "[encoded data removed]"
          },
          "metadata": {}
        },
        {
          "output_type": "display_data",
          "data": {
            "text/plain": [
              "<Figure size 1000x500 with 1 Axes>"
            ],
            "image/png": "[encoded data removed]"
          },
          "metadata": {}
        },
        {
          "output_type": "display_data",
          "data": {
            "text/plain": [
              "<Figure size 800x600 with 2 Axes>"
            ],
            "image/png": "[encoded data removed]"
          },
          "metadata": {}
        },
        {
          "output_type": "stream",
          "name": "stdout",
          "text": [
            "Average test accuracy across all runs: 0.96\n"
          ]
        }
      ],
      "source": [
        "#Calculating averages creating graphs and confusion matrix\n",
        "average_train_acc = np.mean(all_train_acc, axis=0)\n",
        "average_val_acc = np.mean(all_val_acc, axis=0)\n",
        "average_train_loss = np.mean(all_train_loss, axis=0)\n",
        "average_val_loss = np.mean(all_val_loss, axis=0)\n",
        "\n",
        "\n",
        "plt.figure(figsize=(10, 5))\n",
        "plt.plot(average_train_acc, label='Training Accuracy')\n",
        "plt.plot(average_val_acc, label='Validation Accuracy')\n",
        "plt.title('Average Training and Validation Accuracy')\n",
        "plt.xlabel('Epoch')\n",
        "plt.ylabel('Accuracy')\n",
        "plt.legend()\n",
        "plt.grid(True)\n",
        "plt.show()\n",
        "\n",
        "\n",
        "plt.figure(figsize=(10, 5))\n",
        "plt.plot(average_train_loss, label='Training Loss')\n",
        "plt.plot(average_val_loss, label='Validation Loss')\n",
        "plt.title('Average Training and Validation Loss')\n",
        "plt.xlabel('Epoch')\n",
        "plt.ylabel('Loss')\n",
        "plt.legend()\n",
        "plt.grid(True)\n",
        "plt.show()\n",
        "\n",
        "\n",
        "target_names = ['Bird', 'Drone']\n",
        "\n",
        "average_cm = np.mean(all_confusion_matrices, axis=0)\n",
        "\n",
        "plt.figure(figsize=(8, 6))\n",
        "sns.heatmap(average_cm, annot=True, fmt='.2f', xticklabels=target_names, yticklabels=target_names, cmap='Blues')\n",
        "plt.xlabel('Predicted')\n",
        "plt.ylabel('True')\n",
        "plt.title('Average Confusion Matrix')\n",
        "plt.show()\n",
        "\n",
        "average_accuracy = np.mean(all_accuracies)\n",
        "print(f\"Average test accuracy across all runs: {average_accuracy:.2f}\")\n"
      ]
    }
  ],
  "metadata": {
    "colab": {
      "provenance": [],
      "authorship_tag": "ABX9TyNWoqUe5QZVRURh199XlEVg",
      "include_colab_link": true
    },
    "kernelspec": {
      "display_name": "Python 3",
      "name": "python3"
    },
    "language_info": {
      "name": "python"
    }
  },
  "nbformat": 4,
  "nbformat_minor": 0
}